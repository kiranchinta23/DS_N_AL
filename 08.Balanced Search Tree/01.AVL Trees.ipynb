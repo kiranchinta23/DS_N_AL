{
 "cells": [
  {
   "cell_type": "markdown",
   "metadata": {},
   "source": [
    "<img src='avl.png'>\n",
    "<img src='avl_ex.png'>\n",
    "<img src='avl_ex2.png'>"
   ]
  },
  {
   "cell_type": "markdown",
   "metadata": {},
   "source": [
    "# <u> LL Rotations</u>\n",
    "<img src='avl_ll.png'>\n",
    "<img src='avl_ll1.png'>\n",
    "<img src='avl_ll2.png'>"
   ]
  },
  {
   "cell_type": "markdown",
   "metadata": {},
   "source": [
    "# <u> RR Rotations</u>\n",
    "<img src='avl_rr.png'>\n",
    "<img src='avl_rr1.png'>\n",
    "<img src='avl_rr2.png'>"
   ]
  },
  {
   "cell_type": "markdown",
   "metadata": {},
   "source": [
    "# <u> LR Rotations</u>\n",
    "<img src='avl_lr.png'>\n",
    "<img src='avl_lr1.png'>\n",
    "<img src='avl_lr2.png'>"
   ]
  },
  {
   "cell_type": "markdown",
   "metadata": {},
   "source": [
    "# <u> RL Rotations</u>\n",
    "<img src='avl_rl.png'>\n",
    "<img src='avl_rl1.png'>\n",
    "<img src='avl_rl2.png'>"
   ]
  },
  {
   "cell_type": "code",
   "execution_count": 1,
   "metadata": {},
   "outputs": [],
   "source": [
    "import sys\n",
    "class TreeNode: \n",
    "    def __init__(self, val): \n",
    "        self.val = val \n",
    "        self.left = None\n",
    "        self.right = None\n",
    "        self.height = 1\n",
    "  \n",
    "# AVL tree class which supports the  \n",
    "# Insert operation \n",
    "class AVL_Tree: \n",
    "  \n",
    "    # Recursive function to insert key in  \n",
    "    # subtree rooted with node and returns \n",
    "    # new root of subtree. \n",
    "    def rinsert(self, p, key): \n",
    "      \n",
    "        # Step 1 - Perform normal BST \n",
    "        if not p: \n",
    "            return TreeNode(key) \n",
    "        elif key < p.val: \n",
    "            p.left = self.rinsert(p.left, key) \n",
    "        else: \n",
    "            p.right = self.rinsert(p.right, key) \n",
    "  \n",
    "        # Step 2 - Update the height of the  \n",
    "        # ancestor node \n",
    "        p.height = 1 + max(self.getHeight(p.left), \n",
    "                           self.getHeight(p.right)) \n",
    "  \n",
    "        # Step 3 - Get the balance factor \n",
    "        balance = self.getBalance(p) \n",
    "  \n",
    "        # Step 4 - If the node is unbalanced,  \n",
    "        # then try out the 4 cases \n",
    "        # Case 1 - Left Left \n",
    "        if balance > 1 and key < p.left.val: \n",
    "            return self.rightRotate(p) \n",
    "  \n",
    "        # Case 2 - Right Right \n",
    "        if balance < -1 and key > p.right.val: \n",
    "            return self.leftRotate(p) \n",
    "  \n",
    "        # Case 3 - Left Right \n",
    "        if balance > 1 and key > p.left.val: \n",
    "            p.left = self.leftRotate(p.left) \n",
    "            return self.rightRotate(p) \n",
    "  \n",
    "        # Case 4 - Right Left \n",
    "        if balance < -1 and key < p.right.val: \n",
    "            p.right = self.rightRotate(p.right) \n",
    "            return self.leftRotate(p) \n",
    "  \n",
    "        return p \n",
    "  \n",
    "    def leftRotate(self, A):\n",
    "         \n",
    "        B = A.right \n",
    "        Bl = B.left \n",
    "  \n",
    "        # Perform rotation \n",
    "        B.left = A \n",
    "        A.right = Bl \n",
    "  \n",
    "        # Update heights \n",
    "        A.height = 1 + max(self.getHeight(A.left), \n",
    "                         self.getHeight(A.right)) \n",
    "        B.height = 1 + max(self.getHeight(B.left), \n",
    "                         self.getHeight(B.right)) \n",
    "  \n",
    "        # Return the new root \n",
    "        return B\n",
    "  \n",
    "    def rightRotate(self, A): \n",
    "  \n",
    "        B = A.left \n",
    "        Br = B.right \n",
    "  \n",
    "        # Perform rotation \n",
    "        B.right = A \n",
    "        A.left = Br \n",
    "  \n",
    "        # Update heights \n",
    "        A.height = 1 + max(self.getHeight(A.left), \n",
    "                        self.getHeight(A.right)) \n",
    "        B.height = 1 + max(self.getHeight(B.left), \n",
    "                        self.getHeight(B.right)) \n",
    "  \n",
    "        # Return the new root \n",
    "        return B \n",
    "  \n",
    "    def getHeight(self, p): \n",
    "        if not p: \n",
    "            return 0\n",
    "  \n",
    "        return p.height \n",
    "  \n",
    "    def getBalance(self, p): \n",
    "        if not p: \n",
    "            return 0\n",
    "  \n",
    "        return self.getHeight(p.left) - self.getHeight(p.right) \n",
    "  \n",
    "    def preOrder(self, p): \n",
    "  \n",
    "        if not p: \n",
    "            return\n",
    "  \n",
    "        print(\"{0} \".format(p.val), end=\"\") \n",
    "        self.preOrder(p.left) \n",
    "        self.preOrder(p.right) \n",
    "    \n",
    "      # Print the tree\n",
    "    def printHelper(self, currPtr, indent, last):\n",
    "        if currPtr != None:\n",
    "            sys.stdout.write(indent)\n",
    "            if last:\n",
    "                sys.stdout.write(\"R----\")\n",
    "                indent += \"     \"\n",
    "            else:\n",
    "                sys.stdout.write(\"L----\")\n",
    "                indent += \"|    \"\n",
    "            print(currPtr.val)\n",
    "            self.printHelper(currPtr.left, indent, False)\n",
    "            self.printHelper(currPtr.right, indent, True)\n",
    "            \n",
    "    # Recursive function to delete a node with \n",
    "    # given key from subtree with given root. \n",
    "    # It returns root of the modified subtree. \n",
    "    def delete(self, root, key): \n",
    "  \n",
    "        # Step 1 - Perform standard BST delete \n",
    "        if not root: \n",
    "            return root \n",
    "  \n",
    "        elif key < root.val: \n",
    "            root.left = self.delete(root.left, key) \n",
    "  \n",
    "        elif key > root.val: \n",
    "            root.right = self.delete(root.right, key) \n",
    "  \n",
    "        else: \n",
    "            if root.left is None: \n",
    "                temp = root.right \n",
    "                root = None\n",
    "                return temp \n",
    "  \n",
    "            elif root.right is None: \n",
    "                temp = root.left \n",
    "                root = None\n",
    "                return temp \n",
    "  \n",
    "            temp = self.getMinValueNode(root.right) \n",
    "            root.val = temp.val \n",
    "            root.right = self.delete(root.right, \n",
    "                                      temp.val) \n",
    "  \n",
    "        # If the tree has only one node, \n",
    "        # simply return it \n",
    "        if root is None: \n",
    "            return root \n",
    "  \n",
    "        # Step 2 - Update the height of the  \n",
    "        # ancestor node \n",
    "        root.height = 1 + max(self.getHeight(root.left), \n",
    "                            self.getHeight(root.right)) \n",
    "  \n",
    "        # Step 3 - Get the balance factor \n",
    "        balance = self.getBalance(root) \n",
    "  \n",
    "        # Step 4 - If the node is unbalanced,  \n",
    "        # then try out the 4 cases \n",
    "        # Case 1 - Left Left \n",
    "        if balance > 1 and self.getBalance(root.left) >= 0: \n",
    "            return self.rightRotate(root) \n",
    "  \n",
    "        # Case 2 - Right Right \n",
    "        if balance < -1 and self.getBalance(root.right) <= 0: \n",
    "            return self.leftRotate(root) \n",
    "  \n",
    "        # Case 3 - Left Right \n",
    "        if balance > 1 and self.getBalance(root.left) < 0: \n",
    "            root.left = self.leftRotate(root.left) \n",
    "            return self.rightRotate(root) \n",
    "  \n",
    "        # Case 4 - Right Left \n",
    "        if balance < -1 and self.getBalance(root.right) > 0: \n",
    "            root.right = self.rightRotate(root.right) \n",
    "            return self.leftRotate(root) \n",
    "  \n",
    "        return root \n",
    "  "
   ]
  },
  {
   "cell_type": "code",
   "execution_count": 24,
   "metadata": {},
   "outputs": [
    {
     "name": "stdout",
     "output_type": "stream",
     "text": [
      "element already present in tree\n",
      "R----30\n",
      "     L----20\n",
      "     |    L----10\n",
      "     |    R----25\n",
      "     R----40\n",
      "          R----50\n"
     ]
    }
   ],
   "source": [
    "myTree = AVL_Tree() \n",
    "p = None\n",
    "  \n",
    "p = myTree.rinsert(p, 10) \n",
    "p = myTree.rinsert(p, 20) \n",
    "p = myTree.rinsert(p, 30) \n",
    "p = myTree.rinsert(p, 30)\n",
    "p = myTree.rinsert(p, 40) \n",
    "p = myTree.rinsert(p, 50) \n",
    "p = myTree.rinsert(p, 25) \n",
    "myTree.printHelper(p,\"\",True)"
   ]
  },
  {
   "cell_type": "code",
   "execution_count": 17,
   "metadata": {},
   "outputs": [
    {
     "name": "stdout",
     "output_type": "stream",
     "text": [
      "Preorder traversal of the constructed AVL tree is\n",
      "30 20 10 25 40 50 \n"
     ]
    }
   ],
   "source": [
    "print(\"Preorder traversal of the\", \n",
    "      \"constructed AVL tree is\") \n",
    "myTree.preOrder(p) \n",
    "print() "
   ]
  },
  {
   "cell_type": "code",
   "execution_count": 9,
   "metadata": {},
   "outputs": [
    {
     "name": "stdout",
     "output_type": "stream",
     "text": [
      "R----33\n",
      "     L----13\n",
      "     |    L----9\n",
      "     |    |    L----8\n",
      "     |    |    R----11\n",
      "     |    R----21\n",
      "     R----52\n",
      "          R----61\n"
     ]
    }
   ],
   "source": [
    "myTree = AVL_Tree()\n",
    "root = None\n",
    "nums = [33, 13, 52, 9, 21, 61, 8, 11]\n",
    "for num in nums:\n",
    "    root = myTree.rinsert(root, num)\n",
    "myTree.printHelper(root, \"\", True)"
   ]
  },
  {
   "cell_type": "markdown",
   "metadata": {},
   "source": [
    "# deletion"
   ]
  },
  {
   "cell_type": "markdown",
   "metadata": {},
   "source": [
    "<img src='avl_ll_d.png'>\n",
    "<img src='avl_lr_d.png'>\n",
    "<img src='avl_ll_lr_d.png'>\n",
    "<img src='avl_rr_d.png'>\n",
    "<img src='avl_rl_d.png'>\n",
    "<img src='avl_rr_rl_d.png'>"
   ]
  },
  {
   "cell_type": "markdown",
   "metadata": {},
   "source": [
    "<img src='avl_analysis.png'>"
   ]
  },
  {
   "cell_type": "code",
   "execution_count": null,
   "metadata": {},
   "outputs": [],
   "source": []
  }
 ],
 "metadata": {
  "kernelspec": {
   "display_name": "Python 3",
   "language": "python",
   "name": "python3"
  },
  "language_info": {
   "codemirror_mode": {
    "name": "ipython",
    "version": 3
   },
   "file_extension": ".py",
   "mimetype": "text/x-python",
   "name": "python",
   "nbconvert_exporter": "python",
   "pygments_lexer": "ipython3",
   "version": "3.7.3"
  }
 },
 "nbformat": 4,
 "nbformat_minor": 4
}
