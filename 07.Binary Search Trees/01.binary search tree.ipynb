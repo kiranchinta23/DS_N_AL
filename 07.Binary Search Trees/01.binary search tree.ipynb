{
 "cells": [
  {
   "cell_type": "markdown",
   "metadata": {},
   "source": [
    "<img src='bst.png'>\n",
    "<img src='bst1.png'>"
   ]
  },
  {
   "cell_type": "markdown",
   "metadata": {},
   "source": [
    "# <u>Binary search trees (Searching)</u>\n",
    "<img src='bst_search.png'>"
   ]
  },
  {
   "cell_type": "markdown",
   "metadata": {},
   "source": [
    "# <u>Iterative Search</u>\n",
    "<img src='bst_iterativesearch.png'>\n",
    "\n",
    "# <u>Recursive Search</u>\n",
    "<img src='bst_recursivesearch.png'>"
   ]
  },
  {
   "cell_type": "markdown",
   "metadata": {},
   "source": [
    "# <u>Iterative Insert</u> \n",
    "<img src='bst_iterativeinsert.png'>\n",
    "\n",
    "# <u>Recursive Insert</u>\n",
    "<img src='bst_recursiveinsert.png'>"
   ]
  },
  {
   "cell_type": "code",
   "execution_count": 10,
   "metadata": {},
   "outputs": [],
   "source": [
    "class Node:\n",
    "    def __init__(self,element,left=None,right=None):\n",
    "        self.element=element\n",
    "        self.left=left\n",
    "        self.right=right\n",
    "        \n",
    "class binarysearchtree:\n",
    "    def __init__(self):\n",
    "        self.root=None\n",
    "        \n",
    "    def inorder(self,troot):\n",
    "        if troot:\n",
    "            self.inorder(troot.left)\n",
    "            print(troot.element,end=' ')\n",
    "            self.inorder(troot.right)\n",
    "        \n",
    "    \n",
    "    def insert(self,troot,e):\n",
    "        temp=None\n",
    "        while troot:\n",
    "            temp=troot\n",
    "            if e==troot.element:\n",
    "                return\n",
    "            elif e<troot.element:\n",
    "                troot=troot.left\n",
    "            else:\n",
    "                troot=troot.right\n",
    "        \n",
    "        n=Node(e)\n",
    "        if self.root:\n",
    "            if e<temp.element:\n",
    "                temp.left=n\n",
    "            else:\n",
    "                temp.right=n\n",
    "            \n",
    "        else:\n",
    "            self.root=n"
   ]
  },
  {
   "cell_type": "code",
   "execution_count": 12,
   "metadata": {},
   "outputs": [
    {
     "name": "stdout",
     "output_type": "stream",
     "text": [
      "5 10 11 34 "
     ]
    }
   ],
   "source": [
    "b=binarysearchtree()\n",
    "b.insert(b.root,10)\n",
    "b.insert(b.root,5)\n",
    "b.insert(b.root,34)\n",
    "b.insert(b.root,11)\n",
    "b.inorder(b.root)"
   ]
  },
  {
   "cell_type": "code",
   "execution_count": 16,
   "metadata": {},
   "outputs": [],
   "source": [
    "class Node:\n",
    "    def __init__(self,element,left=None,right=None):\n",
    "        self.element=element\n",
    "        self.left=left\n",
    "        self.right=right\n",
    "        \n",
    "class binarysearchtree:\n",
    "    def __init__(self):\n",
    "        self.root=None\n",
    "        \n",
    "    def inorder(self,troot):\n",
    "        if troot:\n",
    "            self.inorder(troot.left)\n",
    "            print(troot.element,end=' ')\n",
    "            self.inorder(troot.right)\n",
    "        \n",
    "    \n",
    "    def insert(self,troot,e):\n",
    "        temp=None\n",
    "        while troot:\n",
    "            temp=troot\n",
    "            if e==troot.element:\n",
    "                return\n",
    "            elif e<troot.element:\n",
    "                troot=troot.left\n",
    "            else:\n",
    "                troot=troot.right\n",
    "        \n",
    "        n=Node(e)\n",
    "        if self.root:\n",
    "            if e<temp.element:\n",
    "                temp.left=n\n",
    "            else:\n",
    "                temp.right=n\n",
    "            \n",
    "        else:\n",
    "            self.root=n\n",
    "    \n",
    "    def rinsert(self,troot,e):\n",
    "        if troot:\n",
    "            if troot.element==e:\n",
    "                return\n",
    "            elif e<troot.element:\n",
    "                troot.left=self.rinsert(troot.left,e)\n",
    "            else:\n",
    "                troot.right=self.rinsert(troot.right,e)\n",
    "        else:            \n",
    "            n=Node(e)\n",
    "            troot=n\n",
    "        return troot"
   ]
  },
  {
   "cell_type": "code",
   "execution_count": 17,
   "metadata": {},
   "outputs": [
    {
     "name": "stdout",
     "output_type": "stream",
     "text": [
      "5 10 11 34 "
     ]
    }
   ],
   "source": [
    "b=binarysearchtree()\n",
    "b.root=b.rinsert(b.root,10)\n",
    "b.rinsert(b.root,5)\n",
    "b.rinsert(b.root,34)\n",
    "b.rinsert(b.root,11)\n",
    "b.inorder(b.root)"
   ]
  },
  {
   "cell_type": "code",
   "execution_count": 56,
   "metadata": {},
   "outputs": [],
   "source": [
    "class Node:\n",
    "    def __init__(self,element,left=None,right=None):\n",
    "        self.element=element\n",
    "        self.left=left\n",
    "        self.right=right\n",
    "        \n",
    "class binarysearchtree:\n",
    "    def __init__(self):\n",
    "        self.root=None\n",
    "        \n",
    "    def inorder(self,troot):\n",
    "        if troot:\n",
    "            self.inorder(troot.left)\n",
    "            print(troot.element,end=' ')\n",
    "            self.inorder(troot.right)\n",
    "        \n",
    "    \n",
    "    def insert(self,e):\n",
    "        temp=None\n",
    "        troot=self.root\n",
    "        n=Node(e)\n",
    "        \n",
    "        if self.root:\n",
    "            while troot:\n",
    "                temp=troot\n",
    "                if e==troot.element:\n",
    "                    return\n",
    "                elif e<troot.element:\n",
    "                    troot=troot.left\n",
    "                else:\n",
    "                    troot=troot.right\n",
    "                \n",
    "            if e<temp.element:\n",
    "                temp.left=n\n",
    "            else:\n",
    "                temp.right=n\n",
    "            \n",
    "        else:\n",
    "            self.root=n\n",
    "            \n",
    "    def search(self,key):\n",
    "        troot=self.root\n",
    "        while troot:\n",
    "            if key==troot.element:\n",
    "                return True\n",
    "            elif key<troot.element:\n",
    "                troot=troot.left\n",
    "            else:\n",
    "                troot=troot.right\n",
    "        return False \n",
    "    \n",
    "    def rinsert(self,troot,e):\n",
    "        if troot:\n",
    "            if troot.element==e:\n",
    "                return\n",
    "            elif e<troot.element:\n",
    "                troot.left=self.rinsert(troot.left,e)\n",
    "            else:\n",
    "                troot.right=self.rinsert(troot.right,e)\n",
    "        else:            \n",
    "            n=Node(e)\n",
    "            troot=n\n",
    "        return troot\n",
    "    \n",
    "    \n",
    "    def rsearch(self,troot,key):\n",
    "        if troot:\n",
    "            if key==troot.element:\n",
    "                return True\n",
    "            elif key<troot.element:\n",
    "                return self.rsearch(troot.left,key)\n",
    "            else:\n",
    "                return self.rsearch(troot.right,key)\n",
    "        else:\n",
    "            return False\n",
    "    "
   ]
  },
  {
   "cell_type": "code",
   "execution_count": 57,
   "metadata": {},
   "outputs": [
    {
     "name": "stdout",
     "output_type": "stream",
     "text": [
      "False\n",
      "False\n"
     ]
    }
   ],
   "source": [
    "b=binarysearchtree()\n",
    "b.root=b.rinsert(b.root,5)\n",
    "b.rinsert(b.root,3)\n",
    "b.rinsert(b.root,8)\n",
    "b.rinsert(b.root,1)\n",
    "b.rinsert(b.root,4)\n",
    "b.rinsert(b.root,6)\n",
    "b.rinsert(b.root,9)\n",
    "print(b.search(12))\n",
    "print(b.rsearch(b.root,34))"
   ]
  },
  {
   "cell_type": "code",
   "execution_count": 58,
   "metadata": {},
   "outputs": [
    {
     "name": "stdout",
     "output_type": "stream",
     "text": [
      "1 3 4 5 6 8 9 "
     ]
    }
   ],
   "source": [
    "b.inorder(b.root)"
   ]
  },
  {
   "cell_type": "code",
   "execution_count": null,
   "metadata": {},
   "outputs": [],
   "source": []
  }
 ],
 "metadata": {
  "kernelspec": {
   "display_name": "Python 3",
   "language": "python",
   "name": "python3"
  },
  "language_info": {
   "codemirror_mode": {
    "name": "ipython",
    "version": 3
   },
   "file_extension": ".py",
   "mimetype": "text/x-python",
   "name": "python",
   "nbconvert_exporter": "python",
   "pygments_lexer": "ipython3",
   "version": "3.5.4"
  }
 },
 "nbformat": 4,
 "nbformat_minor": 4
}
