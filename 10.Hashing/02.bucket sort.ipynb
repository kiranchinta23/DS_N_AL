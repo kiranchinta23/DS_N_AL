{
 "cells": [
  {
   "cell_type": "markdown",
   "metadata": {},
   "source": [
    "# hashcode\n",
    "<img src='hashcode.png'>\n",
    "<img src='bucket.png'>\n"
   ]
  },
  {
   "cell_type": "markdown",
   "metadata": {},
   "source": [
    "<img src='bs_complexity.png'>"
   ]
  },
  {
   "cell_type": "code",
   "execution_count": 2,
   "metadata": {},
   "outputs": [],
   "source": [
    "def bucketsort(A):\n",
    "    n=len(A)\n",
    "    maxelement=max(A)\n",
    "    l=[]\n",
    "    buckets=[l]*10\n",
    "    for i in range(n):\n",
    "        j=int (n*A[i]/(maxelement+1))\n",
    "        if len(buckets[j])==0:\n",
    "            buckets[j]==A[i]\n",
    "        else:\n",
    "            buckets[j].append(A[i])\n",
    "    for i in range(10):\n",
    "        insertionsort(buckets[i])\n",
    "    k=0\n",
    "    for k in range(10):\n",
    "        for j in range(len(buckets[i])):\n",
    "            A[k]=buckets[i].pop(0)\n",
    "            k=k+1\n",
    "    \n",
    "            \n",
    "    "
   ]
  },
  {
   "cell_type": "code",
   "execution_count": 9,
   "metadata": {},
   "outputs": [],
   "source": [
    "def hashcode(n,e,maxele):\n",
    "    index=int(n*e/(maxele+1))\n",
    "    return index\n",
    "\n",
    "def bucketsort(A):\n",
    "    n=len(A)\n",
    "    maxelement=max(A)\n",
    "    buckets=[0]*10\n",
    "    for i in range(10):\n",
    "        buckets[i]=[]\n",
    " \n",
    "    for i in A:\n",
    "        index=hashcode(n,i,maxelement)\n",
    "        buckets[index].append(i)\n",
    "        buckets[index].sort()\n",
    "        \n",
    "    for i in range(10):\n",
    "        print('[',i,']',end=' ')\n",
    "        print(buckets[i])\n",
    "  \n",
    "    k=0\n",
    "    for i in range(10):\n",
    "        for j in range(len(buckets[i])):\n",
    "            A[k]=buckets[i].pop(0)\n",
    "            k=k+1\n",
    "    return A"
   ]
  },
  {
   "cell_type": "code",
   "execution_count": 10,
   "metadata": {},
   "outputs": [
    {
     "name": "stdout",
     "output_type": "stream",
     "text": [
      "[ 0 ] []\n",
      "[ 1 ] [28]\n",
      "[ 2 ] [34]\n",
      "[ 3 ] [54]\n",
      "[ 4 ] [64]\n",
      "[ 5 ] [86, 92]\n",
      "[ 6 ] []\n",
      "[ 7 ] []\n",
      "[ 8 ] []\n",
      "[ 9 ] []\n"
     ]
    },
    {
     "data": {
      "text/plain": [
       "[28, 34, 54, 64, 86, 92]"
      ]
     },
     "execution_count": 10,
     "metadata": {},
     "output_type": "execute_result"
    }
   ],
   "source": [
    "bucketsort([34,54,92,86,64,28])"
   ]
  },
  {
   "cell_type": "code",
   "execution_count": null,
   "metadata": {},
   "outputs": [],
   "source": []
  }
 ],
 "metadata": {
  "kernelspec": {
   "display_name": "Python 3",
   "language": "python",
   "name": "python3"
  },
  "language_info": {
   "codemirror_mode": {
    "name": "ipython",
    "version": 3
   },
   "file_extension": ".py",
   "mimetype": "text/x-python",
   "name": "python",
   "nbconvert_exporter": "python",
   "pygments_lexer": "ipython3",
   "version": "3.7.3"
  }
 },
 "nbformat": 4,
 "nbformat_minor": 4
}
