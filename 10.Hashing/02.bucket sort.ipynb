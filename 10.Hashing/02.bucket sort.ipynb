{
 "cells": [
  {
   "cell_type": "markdown",
   "metadata": {},
   "source": [
    "# hashcode\n",
    "<img src='hashcode.png'>\n",
    "<img src='bucket.png'>\n"
   ]
  },
  {
   "cell_type": "markdown",
   "metadata": {},
   "source": [
    "<img src='bs_complexity.png'>"
   ]
  },
  {
   "cell_type": "code",
   "execution_count": 2,
   "metadata": {},
   "outputs": [],
   "source": [
    "def bucketsort(A):\n",
    "    n=len(A)\n",
    "    maxelement=max(A)\n",
    "    l=[]\n",
    "    buckets=[l]*10\n",
    "    for i in range(n):\n",
    "        j=int (n*A[i]/(maxelement+1))\n",
    "        if len(buckets[j])==0:\n",
    "            buckets[j]==A[i]\n",
    "        else:\n",
    "            buckets[j].append(A[i])\n",
    "    for i in range(10):\n",
    "        insertionsort(buckets[i])\n",
    "    k=0\n",
    "    for k in range(10):\n",
    "        for j in range(len(buckets[i])):\n",
    "            A[k]=buckets[i].pop(0)\n",
    "            k=k+1\n",
    "    \n",
    "            \n",
    "    "
   ]
  },
  {
   "cell_type": "code",
   "execution_count": 52,
   "metadata": {},
   "outputs": [],
   "source": [
    "def hashcode(n,e,maxele):\n",
    "    index=int(n*e/(maxele+1))\n",
    "    return index\n",
    "\n",
    "def bucketsort(A):\n",
    "    n=len(A)\n",
    "    maxelement=max(A)\n",
    "    l=[]\n",
    "    buckets=[l]*10\n",
    "    print(buckets)\n",
    "    for i in range(10):\n",
    "        print('[',i,']',end=' ')\n",
    "        print(buckets[i])\n",
    "    print() \n",
    "    \n",
    "    for i in A:\n",
    "        index=hashcode(n,i,maxelement)\n",
    "        print(i,index)\n",
    "        if len(buckets[index])==0:\n",
    "            buckets[index]=[i]\n",
    "        else:\n",
    "            buckets[index].append(i)\n",
    "        buckets[index].sort()\n",
    "        \n",
    "    for i in range(10):\n",
    "        print('[',i,']',end=' ')\n",
    "        print(buckets[i])\n",
    "    print() \n",
    "    print(buckets)\n",
    "    k=0\n",
    "    for i in range(10):\n",
    "        for j in range(len(buckets[i])):\n",
    "            A[k]=buckets[i].pop(0)\n",
    "            k=k+1\n",
    "    return A"
   ]
  },
  {
   "cell_type": "code",
   "execution_count": 53,
   "metadata": {},
   "outputs": [
    {
     "name": "stdout",
     "output_type": "stream",
     "text": [
      "[[], [], [], [], [], [], [], [], [], []]\n",
      "[ 0 ] []\n",
      "[ 1 ] []\n",
      "[ 2 ] []\n",
      "[ 3 ] []\n",
      "[ 4 ] []\n",
      "[ 5 ] []\n",
      "[ 6 ] []\n",
      "[ 7 ] []\n",
      "[ 8 ] []\n",
      "[ 9 ] []\n",
      "\n",
      "34 2\n",
      "54 3\n",
      "92 5\n",
      "86 5\n",
      "64 4\n",
      "28 1\n",
      "[ 0 ] []\n",
      "[ 1 ] [28]\n",
      "[ 2 ] [34]\n",
      "[ 3 ] [54]\n",
      "[ 4 ] [64]\n",
      "[ 5 ] [86, 92]\n",
      "[ 6 ] []\n",
      "[ 7 ] []\n",
      "[ 8 ] []\n",
      "[ 9 ] []\n",
      "\n",
      "[[], [28], [34], [54], [64], [86, 92], [], [], [], []]\n"
     ]
    },
    {
     "data": {
      "text/plain": [
       "[28, 34, 54, 64, 86, 92]"
      ]
     },
     "execution_count": 53,
     "metadata": {},
     "output_type": "execute_result"
    }
   ],
   "source": [
    "bucketsort([34,54,92,86,64,28])"
   ]
  },
  {
   "cell_type": "code",
   "execution_count": 70,
   "metadata": {},
   "outputs": [],
   "source": [
    "b=[[],[],[],[],[],[],[],[],[],[],[],[],[]]\n",
    "a=[34,54,92,86,64,28]\n",
    "n=len(a)\n",
    "m=max(a)"
   ]
  },
  {
   "cell_type": "code",
   "execution_count": 71,
   "metadata": {},
   "outputs": [
    {
     "name": "stdout",
     "output_type": "stream",
     "text": [
      "[[], [28], [34], [54], [64], [86, 92], [], [], [], [], [], [], []]\n"
     ]
    }
   ],
   "source": [
    "for i in a:\n",
    "    index=hashcode(n,i,m)\n",
    "    b[index].append(i)\n",
    "    b[index].sort()\n",
    "print(b)"
   ]
  },
  {
   "cell_type": "code",
   "execution_count": 90,
   "metadata": {},
   "outputs": [],
   "source": [
    "def bucksort(a):\n",
    "    n=len(a)\n",
    "    m=max(a)\n",
    "    b=[list()]*10\n",
    "    print(type(b))\n",
    "    print(b)\n",
    "    for i in a:\n",
    "        index=hashcode(n,i,m)\n",
    "        print(type(b[index]))\n",
    "        if len(b[index])==0:\n",
    "            b[index]=[i]\n",
    "        else:\n",
    "            b[index].append(i)\n",
    "        b[index].sort()\n",
    "    print(b)"
   ]
  },
  {
   "cell_type": "code",
   "execution_count": 91,
   "metadata": {},
   "outputs": [
    {
     "name": "stdout",
     "output_type": "stream",
     "text": [
      "<class 'list'>\n",
      "[[], [], [], [], [], [], [], [], [], []]\n",
      "<class 'list'>\n",
      "<class 'list'>\n",
      "<class 'list'>\n",
      "<class 'list'>\n",
      "<class 'list'>\n",
      "<class 'list'>\n",
      "[[], [28], [34], [54], [64], [86, 92], [], [], [], []]\n"
     ]
    }
   ],
   "source": [
    "bucksort(a)"
   ]
  },
  {
   "cell_type": "code",
   "execution_count": null,
   "metadata": {},
   "outputs": [],
   "source": []
  }
 ],
 "metadata": {
  "kernelspec": {
   "display_name": "Python 3",
   "language": "python",
   "name": "python3"
  },
  "language_info": {
   "codemirror_mode": {
    "name": "ipython",
    "version": 3
   },
   "file_extension": ".py",
   "mimetype": "text/x-python",
   "name": "python",
   "nbconvert_exporter": "python",
   "pygments_lexer": "ipython3",
   "version": "3.7.3"
  }
 },
 "nbformat": 4,
 "nbformat_minor": 4
}
