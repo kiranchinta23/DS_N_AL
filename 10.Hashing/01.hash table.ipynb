{
 "cells": [
  {
   "cell_type": "markdown",
   "metadata": {},
   "source": [
    "<img src='hashing.png'>\n",
    "<img src='hashing_ideal.png'>\n",
    "<img src='hashing_compression.png'>\n",
    "<img src='hashing_collsion.png'>"
   ]
  },
  {
   "cell_type": "markdown",
   "metadata": {},
   "source": [
    "<img src='chaining.png'>"
   ]
  },
  {
   "cell_type": "code",
   "execution_count": 25,
   "metadata": {},
   "outputs": [],
   "source": [
    "class hashChain:\n",
    "    def __init__(self):\n",
    "        self.size=10\n",
    "        self.hashtable=[0]*self.size\n",
    "        for i in range(self.size):\n",
    "            self.hashtable[i]=[]\n",
    "        \n",
    "    def hashcode(self,key):\n",
    "        return key%self.size\n",
    "            \n",
    "    \n",
    "    def insert(self,element):\n",
    "        i=self.hashcode(element)\n",
    "        self.hashtable[i].append(element)\n",
    "        self.hashtable[i].sort()# this step is not mandatory\n",
    "    \n",
    "    def search(self,key):\n",
    "        i=self.hashcode(key)\n",
    "        return key in self.hashtable[i]\n",
    "    \n",
    "    def display(self):\n",
    "        for i in range(self.size):\n",
    "            print('[',i,']',end=' ')\n",
    "            print(self.hashtable[i])\n",
    "        print()   "
   ]
  },
  {
   "cell_type": "code",
   "execution_count": 28,
   "metadata": {},
   "outputs": [
    {
     "name": "stdout",
     "output_type": "stream",
     "text": [
      "[ 0 ] []\n",
      "[ 1 ] []\n",
      "[ 2 ] [92]\n",
      "[ 3 ] []\n",
      "[ 4 ] [54, 64]\n",
      "[ 5 ] []\n",
      "[ 6 ] []\n",
      "[ 7 ] []\n",
      "[ 8 ] [78]\n",
      "[ 9 ] []\n",
      "\n",
      "[ 0 ] []\n",
      "[ 1 ] []\n",
      "[ 2 ] [92]\n",
      "[ 3 ] []\n",
      "[ 4 ] [34, 54, 64]\n",
      "[ 5 ] []\n",
      "[ 6 ] [86]\n",
      "[ 7 ] []\n",
      "[ 8 ] [28, 78]\n",
      "[ 9 ] []\n",
      "\n"
     ]
    }
   ],
   "source": [
    "h=hashChain()\n",
    "h.insert(54)\n",
    "h.insert(78)\n",
    "h.insert(64)\n",
    "h.insert(92)\n",
    "h.display()\n",
    "h.insert(34)\n",
    "h.insert(86)\n",
    "h.insert(28)\n",
    "h.display()"
   ]
  },
  {
   "cell_type": "markdown",
   "metadata": {},
   "source": [
    "<img src='linear.png'>\n",
    "\n",
    "**LOAD FACTOR < 0.5, this is important**"
   ]
  },
  {
   "cell_type": "code",
   "execution_count": 32,
   "metadata": {},
   "outputs": [],
   "source": [
    "class hashLinear:\n",
    "    def __init__(self):\n",
    "        self.size=10\n",
    "        self.hashtable=[-1]*self.size\n",
    "    \n",
    "    def hashcode(self,key):\n",
    "        return key%self.size\n",
    "    \n",
    "    def lprobe(self,element):\n",
    "        i=self.hashcode(element)\n",
    "        j=0\n",
    "        while self.hashtable[(i+j)%self.size]!=-1:\n",
    "            j+=1\n",
    "        return (i+j)%self.size\n",
    "    \n",
    "    def insert(self,element):\n",
    "        i=self.hashcode(element)\n",
    "        if self.hashtable[i]==-1:\n",
    "            self.hashtable[i]=element\n",
    "        else:\n",
    "            i=self.lprobe(element)\n",
    "            self.hashtable[i]=element\n",
    "    \n",
    "    def search(self,key):\n",
    "        i=self.hashcode(key)\n",
    "        j=0\n",
    "        while self.hashtable[(i+j)%self.size]!=key:\n",
    "            if self.hashtable[(i+j)%self.size]==-1:\n",
    "                return False\n",
    "            j=j+1\n",
    "        return True\n",
    "    \n",
    "    def display(self):\n",
    "        print(self.hashtable)\n",
    "        "
   ]
  },
  {
   "cell_type": "code",
   "execution_count": 34,
   "metadata": {},
   "outputs": [
    {
     "name": "stdout",
     "output_type": "stream",
     "text": [
      "[-1, -1, 92, -1, 54, 64, 34, 86, 78, 28]\n",
      "False\n"
     ]
    },
    {
     "data": {
      "text/plain": [
       "True"
      ]
     },
     "execution_count": 34,
     "metadata": {},
     "output_type": "execute_result"
    }
   ],
   "source": [
    "h=hashLinear()\n",
    "h.insert(54)\n",
    "h.insert(78)\n",
    "h.insert(64)\n",
    "h.insert(92)\n",
    "h.insert(34)\n",
    "h.insert(86)\n",
    "h.insert(28)\n",
    "h.display()\n",
    "print(h.search(94))\n",
    "h.search(92)"
   ]
  },
  {
   "cell_type": "markdown",
   "metadata": {},
   "source": [
    "<img src='quadratic.png'>"
   ]
  },
  {
   "cell_type": "markdown",
   "metadata": {},
   "source": [
    "<img src='double.png'>"
   ]
  },
  {
   "cell_type": "code",
   "execution_count": null,
   "metadata": {},
   "outputs": [],
   "source": []
  }
 ],
 "metadata": {
  "kernelspec": {
   "display_name": "Python 3",
   "language": "python",
   "name": "python3"
  },
  "language_info": {
   "codemirror_mode": {
    "name": "ipython",
    "version": 3
   },
   "file_extension": ".py",
   "mimetype": "text/x-python",
   "name": "python",
   "nbconvert_exporter": "python",
   "pygments_lexer": "ipython3",
   "version": "3.7.3"
  }
 },
 "nbformat": 4,
 "nbformat_minor": 4
}
