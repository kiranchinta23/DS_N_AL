{
 "cells": [
  {
   "cell_type": "markdown",
   "metadata": {},
   "source": [
    "# <u> D E Queue </u>\n",
    "<img src='dequeue.jpg'>\n",
    "\n",
    "# <u> D E Queue Methods</u>\n",
    "<img src='de_methods.png'>"
   ]
  },
  {
   "cell_type": "markdown",
   "metadata": {},
   "source": [
    "# <u> D E Queue Implementation\n",
    "    "
   ]
  },
  {
   "cell_type": "code",
   "execution_count": 10,
   "metadata": {},
   "outputs": [],
   "source": [
    "class DEQueue:\n",
    "    def __init__(self):\n",
    "        self.data=[]\n",
    "    \n",
    "    def __len__(self):\n",
    "        return len(self.data)\n",
    "    \n",
    "    def isempty(self):\n",
    "        return len(self.data)==0\n",
    "    \n",
    "    def addfirst(self,e):\n",
    "        self.data.insert(0,e)\n",
    "    \n",
    "    def addlast(self,e):\n",
    "        self.data.append(e)\n",
    "    \n",
    "    def removefirst(self):\n",
    "        if self.isempty():\n",
    "            print('Queue is empty')\n",
    "            return\n",
    "        return self.data.pop(0)\n",
    "    \n",
    "    def removelast(self):\n",
    "        if self.isempty():\n",
    "            print('Queue is empty')\n",
    "            return\n",
    "        return self.data.pop()\n",
    "    \n",
    "    def first(self):\n",
    "        if self.isempty():\n",
    "            print('Queue is empty')\n",
    "            return\n",
    "        return self.data[0]\n",
    "    \n",
    "    def last(self):\n",
    "        if self.isempty():\n",
    "            print('Queue is empty')\n",
    "            return\n",
    "        return self.data[-1]\n",
    "    \n",
    "    def display(self):\n",
    "        for i in self.data:\n",
    "            print(i,end='<==>')\n",
    "        print()\n",
    "        "
   ]
  },
  {
   "cell_type": "code",
   "execution_count": 12,
   "metadata": {},
   "outputs": [
    {
     "name": "stdout",
     "output_type": "stream",
     "text": [
      "Queue is empty\n"
     ]
    }
   ],
   "source": [
    "d=DEQueue()\n",
    "d.removelast()"
   ]
  },
  {
   "cell_type": "code",
   "execution_count": null,
   "metadata": {},
   "outputs": [],
   "source": []
  }
 ],
 "metadata": {
  "kernelspec": {
   "display_name": "Python 3",
   "language": "python",
   "name": "python3"
  },
  "language_info": {
   "codemirror_mode": {
    "name": "ipython",
    "version": 3
   },
   "file_extension": ".py",
   "mimetype": "text/x-python",
   "name": "python",
   "nbconvert_exporter": "python",
   "pygments_lexer": "ipython3",
   "version": "3.7.3"
  }
 },
 "nbformat": 4,
 "nbformat_minor": 4
}
