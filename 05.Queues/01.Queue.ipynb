{
 "cells": [
  {
   "cell_type": "markdown",
   "metadata": {},
   "source": [
    "# <u>Queue</u> (F.I.F.O)"
   ]
  },
  {
   "cell_type": "markdown",
   "metadata": {},
   "source": [
    "<img src='queue.jpg'>"
   ]
  },
  {
   "cell_type": "markdown",
   "metadata": {},
   "source": [
    "# <u>Queue methods</u>\n",
    "<img src='queue_methods.png'>"
   ]
  },
  {
   "cell_type": "markdown",
   "metadata": {},
   "source": [
    "# <u>Queue Implementation </u>"
   ]
  },
  {
   "cell_type": "markdown",
   "metadata": {},
   "source": [
    "<img src='q1.png'>\n",
    "<img src='q2.png'>"
   ]
  },
  {
   "cell_type": "code",
   "execution_count": 4,
   "metadata": {},
   "outputs": [],
   "source": [
    "class Queue:\n",
    "    def __init__(self):\n",
    "        self.data=[]\n",
    "        \n",
    "    def __len__(self):\n",
    "        return len(self.data)\n",
    "    \n",
    "    def isempty(self):\n",
    "        return len(self.data)==0\n",
    "    \n",
    "    def enqueue(self,e):\n",
    "        self.data.append(e)\n",
    "    \n",
    "    def dequeue(self):\n",
    "        if self.isempty():\n",
    "            print('Queue is empty')\n",
    "            return\n",
    "        return self.data.pop(0)\n",
    "    \n",
    "    def first(self):\n",
    "        if self.isempty():\n",
    "            print('Queue is empty')\n",
    "            return\n",
    "        return data[0]\n",
    "    \n",
    "    def display(self):\n",
    "        for i in self.data:\n",
    "            print(i,end='<--')\n",
    "        print()"
   ]
  },
  {
   "cell_type": "code",
   "execution_count": 5,
   "metadata": {},
   "outputs": [
    {
     "name": "stdout",
     "output_type": "stream",
     "text": [
      "1<--3<--5<--\n"
     ]
    }
   ],
   "source": [
    "q=Queue()\n",
    "q.enqueue(1)\n",
    "q.enqueue(3)\n",
    "q.enqueue(5)\n",
    "q.display()"
   ]
  },
  {
   "cell_type": "code",
   "execution_count": null,
   "metadata": {},
   "outputs": [],
   "source": []
  }
 ],
 "metadata": {
  "kernelspec": {
   "display_name": "Python 3",
   "language": "python",
   "name": "python3"
  },
  "language_info": {
   "codemirror_mode": {
    "name": "ipython",
    "version": 3
   },
   "file_extension": ".py",
   "mimetype": "text/x-python",
   "name": "python",
   "nbconvert_exporter": "python",
   "pygments_lexer": "ipython3",
   "version": "3.5.4"
  }
 },
 "nbformat": 4,
 "nbformat_minor": 4
}
