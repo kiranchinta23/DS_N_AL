{
 "cells": [
  {
   "cell_type": "markdown",
   "metadata": {},
   "source": [
    "# linear search"
   ]
  },
  {
   "cell_type": "code",
   "execution_count": 10,
   "metadata": {},
   "outputs": [],
   "source": [
    "def linear_search(array,n,key):\n",
    "    for i in array:\n",
    "        if key==i:\n",
    "            return array.index(key)\n",
    "    return -1        "
   ]
  },
  {
   "cell_type": "code",
   "execution_count": 11,
   "metadata": {},
   "outputs": [
    {
     "name": "stdout",
     "output_type": "stream",
     "text": [
      "-1\n"
     ]
    }
   ],
   "source": [
    "l=[1,2,3,4,5,67]\n",
    "print(linear_search(l,len(l),6))"
   ]
  },
  {
   "cell_type": "code",
   "execution_count": 12,
   "metadata": {},
   "outputs": [
    {
     "name": "stdout",
     "output_type": "stream",
     "text": [
      "4\n"
     ]
    }
   ],
   "source": [
    "print(linear_search(l,len(l),5))"
   ]
  },
  {
   "cell_type": "code",
   "execution_count": 5,
   "metadata": {},
   "outputs": [],
   "source": [
    "def linear_search(array,key):\n",
    "    n=len(array)\n",
    "    l=0\n",
    "    while l<n:\n",
    "        if key==array[l]:\n",
    "            return l\n",
    "        l=l+1\n",
    "    return -1"
   ]
  },
  {
   "cell_type": "code",
   "execution_count": 6,
   "metadata": {},
   "outputs": [
    {
     "name": "stdout",
     "output_type": "stream",
     "text": [
      "-1\n",
      "4\n"
     ]
    }
   ],
   "source": [
    "l=[1,2,3,4,5,67]\n",
    "print(linear_search(l,6))\n",
    "print(linear_search(l,5))"
   ]
  },
  {
   "cell_type": "markdown",
   "metadata": {},
   "source": [
    "# Binary iteative search\n",
    "## should be a sorted array"
   ]
  },
  {
   "cell_type": "markdown",
   "metadata": {},
   "source": [
    "<img src='binary_search_algo.png'>\n",
    "<img src='binary_search_time.png'>"
   ]
  },
  {
   "cell_type": "code",
   "execution_count": 19,
   "metadata": {},
   "outputs": [],
   "source": [
    "def binary_search_iterative(array,n,key):\n",
    "    l=0\n",
    "    r=n-1\n",
    "    while l<=r:\n",
    "        m=(l+r)//2\n",
    "        if key==array[m]:\n",
    "            return m\n",
    "        elif key<array[m]:\n",
    "            r=m-1\n",
    "        elif key>array[m]:\n",
    "            l=m+1\n",
    "    return -1"
   ]
  },
  {
   "cell_type": "code",
   "execution_count": 20,
   "metadata": {},
   "outputs": [
    {
     "name": "stdout",
     "output_type": "stream",
     "text": [
      "-1\n",
      "4\n"
     ]
    }
   ],
   "source": [
    "l=[1,2,3,4,5,67]\n",
    "print(binary_search_iterative(l,len(l),6))\n",
    "print(binary_search_iterative(l,len(l),5))"
   ]
  },
  {
   "cell_type": "code",
   "execution_count": null,
   "metadata": {},
   "outputs": [],
   "source": []
  },
  {
   "cell_type": "markdown",
   "metadata": {},
   "source": [
    "# Binary Recursive search"
   ]
  },
  {
   "cell_type": "markdown",
   "metadata": {},
   "source": [
    "<img src='binary_search_rec_algo.png'>\n",
    "<img src='binary_search_rec_time.png'>"
   ]
  },
  {
   "cell_type": "code",
   "execution_count": 32,
   "metadata": {},
   "outputs": [],
   "source": [
    "def binary_search_rec(array,key,l,r):\n",
    "    if l>r:\n",
    "        return -1\n",
    "    else:\n",
    "        m=(l+r)//2\n",
    "        if key==array[m]:\n",
    "            return m\n",
    "        elif key<array[m]:\n",
    "            return binary_search_rec(array,key,l,m-1)\n",
    "        elif key>array[m]:\n",
    "            return binary_search_rec(array,key,m+1,r)"
   ]
  },
  {
   "cell_type": "code",
   "execution_count": 33,
   "metadata": {},
   "outputs": [
    {
     "name": "stdout",
     "output_type": "stream",
     "text": [
      "-1\n",
      "4\n"
     ]
    }
   ],
   "source": [
    "l=[1,2,3,4,5,67]\n",
    "print(binary_search_rec(l,6,0,len(l)-1))\n",
    "print(binary_search_rec(l,5,0,len(l)-1))"
   ]
  },
  {
   "cell_type": "code",
   "execution_count": 7,
   "metadata": {},
   "outputs": [],
   "source": [
    "def binary_search_rec(array,key,l,r):\n",
    "    if l<=r:\n",
    "        m=(l+r)//2\n",
    "        if key==array[m]:\n",
    "            return m\n",
    "        elif key<array[m]:\n",
    "            return binary_search_rec(array,key,l,m-1)\n",
    "        elif key>array[m]:\n",
    "            return binary_search_rec(array,key,m+1,r)\n",
    "    else:\n",
    "        return -1"
   ]
  },
  {
   "cell_type": "code",
   "execution_count": 8,
   "metadata": {},
   "outputs": [
    {
     "name": "stdout",
     "output_type": "stream",
     "text": [
      "-1\n",
      "4\n"
     ]
    }
   ],
   "source": [
    "l=[1,2,3,4,5,67]\n",
    "print(binary_search_rec(l,6,0,len(l)-1))\n",
    "print(binary_search_rec(l,5,0,len(l)-1))"
   ]
  },
  {
   "cell_type": "code",
   "execution_count": null,
   "metadata": {},
   "outputs": [],
   "source": []
  }
 ],
 "metadata": {
  "kernelspec": {
   "display_name": "Python 3",
   "language": "python",
   "name": "python3"
  },
  "language_info": {
   "codemirror_mode": {
    "name": "ipython",
    "version": 3
   },
   "file_extension": ".py",
   "mimetype": "text/x-python",
   "name": "python",
   "nbconvert_exporter": "python",
   "pygments_lexer": "ipython3",
   "version": "3.5.4"
  }
 },
 "nbformat": 4,
 "nbformat_minor": 4
}
