{
 "cells": [
  {
   "cell_type": "markdown",
   "metadata": {},
   "source": [
    "<img src='bfs.png'>"
   ]
  },
  {
   "cell_type": "markdown",
   "metadata": {},
   "source": [
    "<img src='bfs1.png'>"
   ]
  },
  {
   "cell_type": "markdown",
   "metadata": {},
   "source": [
    "<img src='bfs2.png'>"
   ]
  },
  {
   "cell_type": "code",
   "execution_count": 2,
   "metadata": {},
   "outputs": [],
   "source": [
    "class Queue:\n",
    "    def __init__(self):\n",
    "        self.data=[]\n",
    "        \n",
    "    def __len__(self):\n",
    "        return len(self.data)\n",
    "    \n",
    "    def isempty(self):\n",
    "        return len(self.data)==0\n",
    "    \n",
    "    def enqueue(self,e):\n",
    "        self.data.append(e)\n",
    "    \n",
    "    def dequeue(self):\n",
    "        if self.isempty():\n",
    "            print('Queue is empty')\n",
    "            return\n",
    "        return self.data.pop(0)\n",
    "    \n",
    "    def first(self):\n",
    "        if self.isempty():\n",
    "            print('Queue is empty')\n",
    "            return\n",
    "        return self.data[0]\n",
    "    \n",
    "    def display(self):\n",
    "        for i in self.data:\n",
    "            print(i,end='<--')\n",
    "        print()"
   ]
  },
  {
   "cell_type": "code",
   "execution_count": 8,
   "metadata": {},
   "outputs": [],
   "source": [
    "import numpy as np\n",
    "\n",
    "class Graph:\n",
    "    def __init__(self,vertices):\n",
    "        self.vertices=vertices\n",
    "        self.Mat=np.zeros((vertices,vertices))\n",
    "        \n",
    "    def insert_edge(self,u,v,w=1):\n",
    "        self.Mat[u][v]=w\n",
    "    \n",
    "    def remove_edge(self,u,v):\n",
    "        if self.Mat[u][v]==0:\n",
    "            print('edge not present')\n",
    "        else:\n",
    "            self.Mat[u][v]=0\n",
    "    \n",
    "    def exist_edge(self,u,v):\n",
    "        return self.Mat[u][v]!=0\n",
    "    \n",
    "    def vertex_count(self):\n",
    "        return self.vertices\n",
    "    \n",
    "    def edge_count(self):\n",
    "        count=0\n",
    "        for i in range(self.vertices):\n",
    "            for j in range(self.vertices):\n",
    "                if self.Mat[i][j]!=0:\n",
    "                    count+=1\n",
    "        return count\n",
    "    \n",
    "    def vertices(self):\n",
    "        for i in range(self._vertices):\n",
    "            print(i,end=' ')\n",
    "        print()\n",
    "    \n",
    "    def edges(self):\n",
    "        for i in range(self.vertices):\n",
    "            for j in range(self.vertices):\n",
    "                if self.Mat[i][j]!=0:\n",
    "                    print(i,'--',j)\n",
    "        print()\n",
    "    \n",
    "    def indegree(self,v):\n",
    "        count=0\n",
    "        for i in range(self.vertices):\n",
    "            if self.Mat[i][v]!=0:\n",
    "                count+=1\n",
    "        return count\n",
    "    \n",
    "    def outdegree(self,v):\n",
    "        count=0\n",
    "        for j in range(self.vertices):\n",
    "            if self.Mat[v][j]!=0:\n",
    "                count+=1\n",
    "        return count\n",
    "    \n",
    "    def display(self):\n",
    "        print(self.Mat)\n",
    "    \n",
    "    def BFS(self,s):\n",
    "        i=s\n",
    "        q=Queue()\n",
    "        visited=[0]*self.vertices\n",
    "        print(i,end=' ')\n",
    "        visited[i]=1\n",
    "        q.enqueue(i)\n",
    "        while not q.isempty():\n",
    "            i=q.dequeue()\n",
    "            for j in range(self.vertices):\n",
    "                if self.Mat[i][j]!=0 and visited[j]==0:\n",
    "                    print(j,end=' ')\n",
    "                    visited[j]=1\n",
    "                    q.enqueue(j)"
   ]
  },
  {
   "cell_type": "markdown",
   "metadata": {},
   "source": [
    "<img src='bfs3.png'>"
   ]
  },
  {
   "cell_type": "code",
   "execution_count": 9,
   "metadata": {},
   "outputs": [],
   "source": [
    "G=Graph(7)\n",
    "G.insert_edge(0, 1)\n",
    "G.insert_edge(0, 5)\n",
    "G.insert_edge(0, 6)\n",
    "G.insert_edge(1, 0)\n",
    "G.insert_edge(1, 2)\n",
    "G.insert_edge(1, 5)\n",
    "G.insert_edge(1, 6)\n",
    "G.insert_edge(2, 3)\n",
    "G.insert_edge(2, 4)\n",
    "G.insert_edge(2, 6)\n",
    "G.insert_edge(3, 4)\n",
    "G.insert_edge(4, 2)\n",
    "G.insert_edge(4, 5)\n",
    "G.insert_edge(5, 2)\n",
    "G.insert_edge(5, 3)\n",
    "G.insert_edge(6, 3)"
   ]
  },
  {
   "cell_type": "code",
   "execution_count": 10,
   "metadata": {},
   "outputs": [
    {
     "name": "stdout",
     "output_type": "stream",
     "text": [
      "Edges:\n",
      "0 -- 1\n",
      "0 -- 5\n",
      "0 -- 6\n",
      "1 -- 0\n",
      "1 -- 2\n",
      "1 -- 5\n",
      "1 -- 6\n",
      "2 -- 3\n",
      "2 -- 4\n",
      "2 -- 6\n",
      "3 -- 4\n",
      "4 -- 2\n",
      "4 -- 5\n",
      "5 -- 2\n",
      "5 -- 3\n",
      "6 -- 3\n",
      "\n",
      "BFS:\n",
      "0 1 5 6 2 3 4 "
     ]
    }
   ],
   "source": [
    "print('Edges:')\n",
    "G.edges()\n",
    "print('BFS:')\n",
    "G.BFS(0)"
   ]
  },
  {
   "cell_type": "markdown",
   "metadata": {},
   "source": [
    "<img src='dfs.png'>\n",
    "<img src='dfs2.png'>\n",
    "<img src='df3.png'>"
   ]
  },
  {
   "cell_type": "code",
   "execution_count": 18,
   "metadata": {},
   "outputs": [],
   "source": [
    "import numpy as np\n",
    "\n",
    "class Graph:\n",
    "    def __init__(self,vertices):\n",
    "        self.vertices=vertices\n",
    "        self.Mat=np.zeros((vertices,vertices))\n",
    "        self.visited=[0]*vertices\n",
    "        \n",
    "    def insert_edge(self,u,v,w=1):\n",
    "        self.Mat[u][v]=w\n",
    "    \n",
    "    def remove_edge(self,u,v):\n",
    "        if self.Mat[u][v]==0:\n",
    "            print('edge not present')\n",
    "        else:\n",
    "            self.Mat[u][v]=0\n",
    "    \n",
    "    def exist_edge(self,u,v):\n",
    "        return self.Mat[u][v]!=0\n",
    "    \n",
    "    def vertex_count(self):\n",
    "        return self.vertices\n",
    "    \n",
    "    def edge_count(self):\n",
    "        count=0\n",
    "        for i in range(self.vertices):\n",
    "            for j in range(self.vertices):\n",
    "                if self.Mat[i][j]!=0:\n",
    "                    count+=1\n",
    "        return count\n",
    "    \n",
    "    def vertices(self):\n",
    "        for i in range(self._vertices):\n",
    "            print(i,end=' ')\n",
    "        print()\n",
    "    \n",
    "    def edges(self):\n",
    "        for i in range(self.vertices):\n",
    "            for j in range(self.vertices):\n",
    "                if self.Mat[i][j]!=0:\n",
    "                    print(i,'--',j)\n",
    "        print()\n",
    "    \n",
    "    def indegree(self,v):\n",
    "        count=0\n",
    "        for i in range(self.vertices):\n",
    "            if self.Mat[i][v]!=0:\n",
    "                count+=1\n",
    "        return count\n",
    "    \n",
    "    def outdegree(self,v):\n",
    "        count=0\n",
    "        for j in range(self.vertices):\n",
    "            if self.Mat[v][j]!=0:\n",
    "                count+=1\n",
    "        return count\n",
    "    \n",
    "    def display(self):\n",
    "        print(self.Mat)\n",
    "    \n",
    "    def BFS(self,s):\n",
    "        i=s\n",
    "        q=Queue()\n",
    "        visited=[0]*self.vertices\n",
    "        print(i,end=' ')\n",
    "        visited[i]=1\n",
    "        q.enqueue(i)\n",
    "        while not q.isempty():\n",
    "            i=q.dequeue()\n",
    "            for j in range(self.vertices):\n",
    "                if self.Mat[i][j]!=0 and visited[j]==0:\n",
    "                    print(j,end=' ')\n",
    "                    visited[j]=1\n",
    "                    q.enqueue(j)\n",
    "                    \n",
    "    \n",
    "    def DFS(self,s):\n",
    "        if self.visited[s]==0:\n",
    "            print(s,end=' ')\n",
    "            self.visited[s]=1\n",
    "            for j in range(self.vertices):\n",
    "                if self.Mat[s][j]!=0 and self.visited[j]==0:\n",
    "                    self.DFS(j)\n",
    "        "
   ]
  },
  {
   "cell_type": "markdown",
   "metadata": {},
   "source": [
    "<img src='bfs3.png'>"
   ]
  },
  {
   "cell_type": "code",
   "execution_count": 19,
   "metadata": {},
   "outputs": [],
   "source": [
    "G=Graph(7)\n",
    "G.insert_edge(0, 1)\n",
    "G.insert_edge(0, 5)\n",
    "G.insert_edge(0, 6)\n",
    "G.insert_edge(1, 0)\n",
    "G.insert_edge(1, 2)\n",
    "G.insert_edge(1, 5)\n",
    "G.insert_edge(1, 6)\n",
    "G.insert_edge(2, 3)\n",
    "G.insert_edge(2, 4)\n",
    "G.insert_edge(2, 6)\n",
    "G.insert_edge(3, 4)\n",
    "G.insert_edge(4, 2)\n",
    "G.insert_edge(4, 5)\n",
    "G.insert_edge(5, 2)\n",
    "G.insert_edge(5, 3)\n",
    "G.insert_edge(6, 3)"
   ]
  },
  {
   "cell_type": "code",
   "execution_count": 20,
   "metadata": {},
   "outputs": [
    {
     "name": "stdout",
     "output_type": "stream",
     "text": [
      "0 1 2 3 4 5 6 "
     ]
    }
   ],
   "source": [
    "G.DFS(0)"
   ]
  },
  {
   "cell_type": "code",
   "execution_count": null,
   "metadata": {},
   "outputs": [],
   "source": []
  }
 ],
 "metadata": {
  "kernelspec": {
   "display_name": "Python 3",
   "language": "python",
   "name": "python3"
  },
  "language_info": {
   "codemirror_mode": {
    "name": "ipython",
    "version": 3
   },
   "file_extension": ".py",
   "mimetype": "text/x-python",
   "name": "python",
   "nbconvert_exporter": "python",
   "pygments_lexer": "ipython3",
   "version": "3.7.3"
  }
 },
 "nbformat": 4,
 "nbformat_minor": 4
}
