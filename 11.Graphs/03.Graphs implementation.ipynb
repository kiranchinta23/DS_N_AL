{
 "cells": [
  {
   "cell_type": "code",
   "execution_count": 42,
   "metadata": {},
   "outputs": [],
   "source": [
    "import numpy as np\n",
    "\n",
    "class Graph:\n",
    "    def __init__(self,vertices):\n",
    "        self.vertices=vertices\n",
    "        self.Mat=np.zeros((vertices,vertices))\n",
    "        \n",
    "    def insert_edge(self,u,v,w=1):\n",
    "        self.Mat[u][v]=w\n",
    "    \n",
    "    def remove_edge(self,u,v):\n",
    "        if self.Mat[u][v]==0:\n",
    "            print('edge not present')\n",
    "        else:\n",
    "            self.Mat[u][v]=0\n",
    "    \n",
    "    def exist_edge(self,u,v):\n",
    "        return self.Mat[u][v]!=0\n",
    "    \n",
    "    def vertex_count(self):\n",
    "        return self.vertices\n",
    "    \n",
    "    def edge_count(self):\n",
    "        count=0\n",
    "        for i in range(self.vertices):\n",
    "            for j in range(self.vertices):\n",
    "                if self.Mat[i][j]!=0:\n",
    "                    count+=1\n",
    "        return count\n",
    "    \n",
    "    def vertices(self):\n",
    "        for i in range(self._vertices):\n",
    "            print(i,end=' ')\n",
    "        print()\n",
    "    \n",
    "    def edges(self):\n",
    "        for i in range(self.vertices):\n",
    "            for j in range(self.vertices):\n",
    "                if self.Mat[i][j]!=0:\n",
    "                    print(i,'--',j)\n",
    "        print()\n",
    "    \n",
    "    def indegree(self,v):\n",
    "        count=0\n",
    "        for i in range(self.vertices):\n",
    "            if self.Mat[i][v]!=0:\n",
    "                count+=1\n",
    "        return count\n",
    "    \n",
    "    def outdegree(self,v):\n",
    "        count=0\n",
    "        for j in range(self.vertices):\n",
    "            if self.Mat[v][j]!=0:\n",
    "                count+=1\n",
    "        return count\n",
    "    \n",
    "    def display(self):\n",
    "        print(self.Mat)"
   ]
  },
  {
   "cell_type": "markdown",
   "metadata": {},
   "source": [
    "# undirected graph implementation\n",
    "<img src='un.png'>"
   ]
  },
  {
   "cell_type": "code",
   "execution_count": 7,
   "metadata": {},
   "outputs": [
    {
     "name": "stdout",
     "output_type": "stream",
     "text": [
      "[[0. 0. 0. 0.]\n",
      " [0. 0. 0. 0.]\n",
      " [0. 0. 0. 0.]\n",
      " [0. 0. 0. 0.]]\n",
      "vertices 4\n",
      "edges 0\n"
     ]
    }
   ],
   "source": [
    "\n",
    "g=Graph(4)\n",
    "g.display()\n",
    "print('vertices',g.vertex_count())\n",
    "print('edges',g.edge_count())\n"
   ]
  },
  {
   "cell_type": "code",
   "execution_count": 8,
   "metadata": {},
   "outputs": [
    {
     "name": "stdout",
     "output_type": "stream",
     "text": [
      "[[0. 1. 1. 0.]\n",
      " [1. 0. 1. 0.]\n",
      " [1. 1. 0. 1.]\n",
      " [0. 0. 1. 0.]]\n",
      "vertices 4\n",
      "edges 8\n"
     ]
    }
   ],
   "source": [
    "g.insert_edge(0,1)\n",
    "g.insert_edge(0,2)\n",
    "g.insert_edge(1,2)\n",
    "g.insert_edge(2,3)\n",
    "\n",
    "g.insert_edge(1,0)\n",
    "g.insert_edge(2,0)\n",
    "g.insert_edge(2,1)\n",
    "g.insert_edge(3,2)\n",
    "\n",
    "g.display()\n",
    "print('vertices',g.vertex_count())\n",
    "print('edges',g.edge_count())"
   ]
  },
  {
   "cell_type": "code",
   "execution_count": 9,
   "metadata": {},
   "outputs": [
    {
     "name": "stdout",
     "output_type": "stream",
     "text": [
      "0 -- 1\n",
      "0 -- 2\n",
      "1 -- 0\n",
      "1 -- 2\n",
      "2 -- 0\n",
      "2 -- 1\n",
      "2 -- 3\n",
      "3 -- 2\n",
      "\n"
     ]
    }
   ],
   "source": [
    "g.edges()"
   ]
  },
  {
   "cell_type": "code",
   "execution_count": 10,
   "metadata": {},
   "outputs": [
    {
     "data": {
      "text/plain": [
       "False"
      ]
     },
     "execution_count": 10,
     "metadata": {},
     "output_type": "execute_result"
    }
   ],
   "source": [
    "g.exist_edge(1,3)"
   ]
  },
  {
   "cell_type": "code",
   "execution_count": 11,
   "metadata": {},
   "outputs": [
    {
     "data": {
      "text/plain": [
       "True"
      ]
     },
     "execution_count": 11,
     "metadata": {},
     "output_type": "execute_result"
    }
   ],
   "source": [
    "g.exist_edge(2,0)"
   ]
  },
  {
   "cell_type": "code",
   "execution_count": 12,
   "metadata": {},
   "outputs": [
    {
     "data": {
      "text/plain": [
       "3"
      ]
     },
     "execution_count": 12,
     "metadata": {},
     "output_type": "execute_result"
    }
   ],
   "source": [
    "g.indegree(2)"
   ]
  },
  {
   "cell_type": "code",
   "execution_count": 13,
   "metadata": {},
   "outputs": [],
   "source": [
    "g.remove_edge(1,2)"
   ]
  },
  {
   "cell_type": "code",
   "execution_count": 14,
   "metadata": {},
   "outputs": [
    {
     "data": {
      "text/plain": [
       "False"
      ]
     },
     "execution_count": 14,
     "metadata": {},
     "output_type": "execute_result"
    }
   ],
   "source": [
    "g.exist_edge(1,2)"
   ]
  },
  {
   "cell_type": "markdown",
   "metadata": {},
   "source": [
    "# weighted undirected graph\n",
    "<img src='wun.png'>"
   ]
  },
  {
   "cell_type": "code",
   "execution_count": 18,
   "metadata": {},
   "outputs": [
    {
     "name": "stdout",
     "output_type": "stream",
     "text": [
      "[[0. 0. 0. 0.]\n",
      " [0. 0. 0. 0.]\n",
      " [0. 0. 0. 0.]\n",
      " [0. 0. 0. 0.]]\n",
      "vertices 4\n",
      "edges 0\n"
     ]
    }
   ],
   "source": [
    "w=Graph(4)\n",
    "w.display()\n",
    "print('vertices',w.vertex_count())\n",
    "print('edges',w.edge_count())"
   ]
  },
  {
   "cell_type": "code",
   "execution_count": 19,
   "metadata": {},
   "outputs": [],
   "source": [
    "w.insert_edge(0,1,26)\n",
    "w.insert_edge(0,2,16)\n",
    "w.insert_edge(1,2,12)\n",
    "w.insert_edge(2,3,8)\n",
    "\n",
    "w.insert_edge(1,0,26)\n",
    "w.insert_edge(2,0,16)\n",
    "w.insert_edge(2,1,12)\n",
    "w.insert_edge(3,2,8)"
   ]
  },
  {
   "cell_type": "code",
   "execution_count": 20,
   "metadata": {},
   "outputs": [
    {
     "name": "stdout",
     "output_type": "stream",
     "text": [
      "[[ 0. 26. 16.  0.]\n",
      " [26.  0. 12.  0.]\n",
      " [16. 12.  0.  8.]\n",
      " [ 0.  0.  8.  0.]]\n",
      "vertices 4\n",
      "edges 8\n"
     ]
    }
   ],
   "source": [
    "w.display()\n",
    "print('vertices',w.vertex_count())\n",
    "print('edges',w.edge_count())"
   ]
  },
  {
   "cell_type": "code",
   "execution_count": 21,
   "metadata": {},
   "outputs": [
    {
     "name": "stdout",
     "output_type": "stream",
     "text": [
      "0 -- 1\n",
      "0 -- 2\n",
      "1 -- 0\n",
      "1 -- 2\n",
      "2 -- 0\n",
      "2 -- 1\n",
      "2 -- 3\n",
      "3 -- 2\n",
      "\n"
     ]
    }
   ],
   "source": [
    "w.edges()"
   ]
  },
  {
   "cell_type": "code",
   "execution_count": 22,
   "metadata": {},
   "outputs": [
    {
     "data": {
      "text/plain": [
       "False"
      ]
     },
     "execution_count": 22,
     "metadata": {},
     "output_type": "execute_result"
    }
   ],
   "source": [
    "w.exist_edge(1,3)"
   ]
  },
  {
   "cell_type": "code",
   "execution_count": 23,
   "metadata": {},
   "outputs": [
    {
     "data": {
      "text/plain": [
       "True"
      ]
     },
     "execution_count": 23,
     "metadata": {},
     "output_type": "execute_result"
    }
   ],
   "source": [
    "w.exist_edge(2,0)"
   ]
  },
  {
   "cell_type": "code",
   "execution_count": 25,
   "metadata": {},
   "outputs": [
    {
     "data": {
      "text/plain": [
       "3"
      ]
     },
     "execution_count": 25,
     "metadata": {},
     "output_type": "execute_result"
    }
   ],
   "source": [
    "w.indegree(2)"
   ]
  },
  {
   "cell_type": "code",
   "execution_count": null,
   "metadata": {},
   "outputs": [],
   "source": []
  },
  {
   "cell_type": "markdown",
   "metadata": {},
   "source": [
    "# Directed graph implementation\n",
    "<img src='di.png'>"
   ]
  },
  {
   "cell_type": "code",
   "execution_count": 43,
   "metadata": {},
   "outputs": [
    {
     "name": "stdout",
     "output_type": "stream",
     "text": [
      "[[0. 0. 0. 0.]\n",
      " [0. 0. 0. 0.]\n",
      " [0. 0. 0. 0.]\n",
      " [0. 0. 0. 0.]]\n",
      "vertices 4\n",
      "edges 0\n"
     ]
    }
   ],
   "source": [
    "g=Graph(4)\n",
    "g.display()\n",
    "print('vertices',g.vertex_count())\n",
    "print('edges',g.edge_count())"
   ]
  },
  {
   "cell_type": "code",
   "execution_count": 44,
   "metadata": {},
   "outputs": [],
   "source": [
    "g.insert_edge(0,1)\n",
    "g.insert_edge(0,2)\n",
    "g.insert_edge(1,2)\n",
    "g.insert_edge(2,3)\n"
   ]
  },
  {
   "cell_type": "code",
   "execution_count": 45,
   "metadata": {},
   "outputs": [
    {
     "name": "stdout",
     "output_type": "stream",
     "text": [
      "[[0. 1. 1. 0.]\n",
      " [0. 0. 1. 0.]\n",
      " [0. 0. 0. 1.]\n",
      " [0. 0. 0. 0.]]\n",
      "vertices 4\n",
      "edges 4\n"
     ]
    }
   ],
   "source": [
    "g.display()\n",
    "print('vertices',g.vertex_count())\n",
    "print('edges',g.edge_count())"
   ]
  },
  {
   "cell_type": "code",
   "execution_count": 46,
   "metadata": {},
   "outputs": [
    {
     "name": "stdout",
     "output_type": "stream",
     "text": [
      "0 -- 1\n",
      "0 -- 2\n",
      "1 -- 2\n",
      "2 -- 3\n",
      "\n"
     ]
    }
   ],
   "source": [
    "g.edges()"
   ]
  },
  {
   "cell_type": "code",
   "execution_count": 47,
   "metadata": {},
   "outputs": [
    {
     "data": {
      "text/plain": [
       "False"
      ]
     },
     "execution_count": 47,
     "metadata": {},
     "output_type": "execute_result"
    }
   ],
   "source": [
    "g.exist_edge(3,2)"
   ]
  },
  {
   "cell_type": "code",
   "execution_count": 48,
   "metadata": {},
   "outputs": [
    {
     "data": {
      "text/plain": [
       "True"
      ]
     },
     "execution_count": 48,
     "metadata": {},
     "output_type": "execute_result"
    }
   ],
   "source": [
    "g.exist_edge(2,3)"
   ]
  },
  {
   "cell_type": "code",
   "execution_count": 49,
   "metadata": {},
   "outputs": [
    {
     "name": "stdout",
     "output_type": "stream",
     "text": [
      "edge not present\n"
     ]
    }
   ],
   "source": [
    "g.remove_edge(3,2)"
   ]
  },
  {
   "cell_type": "code",
   "execution_count": 50,
   "metadata": {},
   "outputs": [
    {
     "name": "stdout",
     "output_type": "stream",
     "text": [
      "0 -- 1\n",
      "0 -- 2\n",
      "1 -- 2\n",
      "2 -- 3\n",
      "\n"
     ]
    }
   ],
   "source": [
    "g.edges()"
   ]
  },
  {
   "cell_type": "markdown",
   "metadata": {},
   "source": [
    "# weighted Directed Graph\n",
    "<img src='wdi.png'>"
   ]
  },
  {
   "cell_type": "code",
   "execution_count": 51,
   "metadata": {},
   "outputs": [
    {
     "name": "stdout",
     "output_type": "stream",
     "text": [
      "[[0. 0. 0. 0.]\n",
      " [0. 0. 0. 0.]\n",
      " [0. 0. 0. 0.]\n",
      " [0. 0. 0. 0.]]\n",
      "vertices 4\n",
      "edges 0\n"
     ]
    }
   ],
   "source": [
    "g=Graph(4)\n",
    "g.display()\n",
    "print('vertices',g.vertex_count())\n",
    "print('edges',g.edge_count())"
   ]
  },
  {
   "cell_type": "code",
   "execution_count": 52,
   "metadata": {},
   "outputs": [],
   "source": [
    "g.insert_edge(0,1,26)\n",
    "g.insert_edge(0,2,16)\n",
    "g.insert_edge(1,2,12)\n",
    "g.insert_edge(2,3,8)"
   ]
  },
  {
   "cell_type": "code",
   "execution_count": 53,
   "metadata": {},
   "outputs": [
    {
     "name": "stdout",
     "output_type": "stream",
     "text": [
      "[[ 0. 26. 16.  0.]\n",
      " [ 0.  0. 12.  0.]\n",
      " [ 0.  0.  0.  8.]\n",
      " [ 0.  0.  0.  0.]]\n",
      "vertices 4\n",
      "edges 4\n"
     ]
    }
   ],
   "source": [
    "g.display()\n",
    "print('vertices',g.vertex_count())\n",
    "print('edges',g.edge_count())"
   ]
  },
  {
   "cell_type": "code",
   "execution_count": 54,
   "metadata": {},
   "outputs": [
    {
     "name": "stdout",
     "output_type": "stream",
     "text": [
      "0 -- 1\n",
      "0 -- 2\n",
      "1 -- 2\n",
      "2 -- 3\n",
      "\n"
     ]
    }
   ],
   "source": [
    "g.edges()"
   ]
  },
  {
   "cell_type": "code",
   "execution_count": 55,
   "metadata": {},
   "outputs": [
    {
     "data": {
      "text/plain": [
       "2"
      ]
     },
     "execution_count": 55,
     "metadata": {},
     "output_type": "execute_result"
    }
   ],
   "source": [
    "g.indegree(2)"
   ]
  },
  {
   "cell_type": "code",
   "execution_count": 56,
   "metadata": {},
   "outputs": [
    {
     "data": {
      "text/plain": [
       "1"
      ]
     },
     "execution_count": 56,
     "metadata": {},
     "output_type": "execute_result"
    }
   ],
   "source": [
    "g.outdegree(2)"
   ]
  },
  {
   "cell_type": "code",
   "execution_count": null,
   "metadata": {},
   "outputs": [],
   "source": []
  }
 ],
 "metadata": {
  "kernelspec": {
   "display_name": "Python 3",
   "language": "python",
   "name": "python3"
  },
  "language_info": {
   "codemirror_mode": {
    "name": "ipython",
    "version": 3
   },
   "file_extension": ".py",
   "mimetype": "text/x-python",
   "name": "python",
   "nbconvert_exporter": "python",
   "pygments_lexer": "ipython3",
   "version": "3.7.3"
  }
 },
 "nbformat": 4,
 "nbformat_minor": 4
}
