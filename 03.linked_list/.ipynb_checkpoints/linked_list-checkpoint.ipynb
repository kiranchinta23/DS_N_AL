{
 "cells": [
  {
   "cell_type": "code",
   "execution_count": 1,
   "metadata": {},
   "outputs": [],
   "source": [
    "class Node:\n",
    "    __slots__='element','next'\n",
    "    def __init__(self,element,next):\n",
    "        self.element=element\n",
    "        self.next=next"
   ]
  },
  {
   "cell_type": "code",
   "execution_count": 2,
   "metadata": {},
   "outputs": [],
   "source": [
    "n1=Node(1,None)\n",
    "n2=Node(4,None)"
   ]
  },
  {
   "cell_type": "markdown",
   "metadata": {},
   "source": [
    "<img src='links.png'>\n"
   ]
  },
  {
   "cell_type": "markdown",
   "metadata": {},
   "source": [
    "# Linking"
   ]
  },
  {
   "cell_type": "markdown",
   "metadata": {},
   "source": [
    "<img src='create.png'>"
   ]
  },
  {
   "cell_type": "code",
   "execution_count": 3,
   "metadata": {},
   "outputs": [],
   "source": [
    "def add(e):\n",
    "    newest=Node(e,None)\n",
    "    if isempty():\n",
    "        head=newest\n",
    "    else:\n",
    "        tail.next=newest\n",
    "    tail=newest\n",
    "    size=size+1"
   ]
  },
  {
   "cell_type": "markdown",
   "metadata": {},
   "source": [
    "# Transversing "
   ]
  },
  {
   "cell_type": "markdown",
   "metadata": {},
   "source": [
    "<img src='transversing.png'>"
   ]
  },
  {
   "cell_type": "code",
   "execution_count": 4,
   "metadata": {},
   "outputs": [],
   "source": [
    "def display():\n",
    "    p=head\n",
    "    while p:\n",
    "        print(p.element)\n",
    "        p=p.next"
   ]
  },
  {
   "cell_type": "markdown",
   "metadata": {},
   "source": [
    "# Linked List"
   ]
  },
  {
   "cell_type": "code",
   "execution_count": 22,
   "metadata": {},
   "outputs": [],
   "source": [
    "class Node:\n",
    "    __slots__='element','next'\n",
    "    def __init__(self,element,next):\n",
    "        self.element=element\n",
    "        self.next=next\n",
    "        \n",
    "class LinkedList:\n",
    "    def __init__(self):\n",
    "        self.head=None\n",
    "        self.tail=None\n",
    "        self.size=0\n",
    "        \n",
    "    def __len__(self):\n",
    "        return self.size\n",
    "    \n",
    "    def isempty(self):\n",
    "        return self.size==0\n",
    "    \n",
    "    def addlast(self,value):\n",
    "        newest=Node(value,None)\n",
    "        if self.isempty():\n",
    "            self.head=newest\n",
    "        else:\n",
    "            self.tail.next=newest\n",
    "        self.tail=newest\n",
    "        self.size+=1\n",
    "        \n",
    "    def display(self):\n",
    "        p=self.head\n",
    "        while p:\n",
    "            print(p.element,end='-->')\n",
    "            p=p.next\n",
    "        print()"
   ]
  },
  {
   "cell_type": "code",
   "execution_count": 23,
   "metadata": {},
   "outputs": [
    {
     "name": "stdout",
     "output_type": "stream",
     "text": [
      "length of ll is: 3\n",
      "7-->3-->10-->\n",
      "length of ll is: 5\n",
      "7-->3-->10-->1-->3-->\n"
     ]
    }
   ],
   "source": [
    "L=LinkedList()\n",
    "L.addlast(7)\n",
    "L.addlast(3)\n",
    "L.addlast(10)\n",
    "print('length of ll is:',len(L))\n",
    "L.display()\n",
    "L.addlast(1)\n",
    "L.addlast(3)\n",
    "print('length of ll is:',len(L))\n",
    "L.display()"
   ]
  },
  {
   "cell_type": "markdown",
   "metadata": {},
   "source": [
    "# <u>Searching</u>"
   ]
  },
  {
   "cell_type": "markdown",
   "metadata": {},
   "source": [
    "<img src='searching.png'>"
   ]
  },
  {
   "cell_type": "code",
   "execution_count": 26,
   "metadata": {},
   "outputs": [],
   "source": [
    "class Node:\n",
    "    __slots__='element','next'\n",
    "    def __init__(self,element,next):\n",
    "        self.element=element\n",
    "        self.next=next\n",
    "        \n",
    "class LinkedList:\n",
    "    def __init__(self):\n",
    "        self.head=None\n",
    "        self.tail=None\n",
    "        self.size=0\n",
    "        \n",
    "    def __len__(self):\n",
    "        return self.size\n",
    "    \n",
    "    def isempty(self):\n",
    "        return self.size==0\n",
    "    \n",
    "    def addlast(self,value):\n",
    "        newest=Node(value,None)\n",
    "        if self.isempty():\n",
    "            self.head=newest\n",
    "        else:\n",
    "            self.tail.next=newest\n",
    "        self.tail=newest\n",
    "        self.size+=1\n",
    "        \n",
    "    def display(self):\n",
    "        p=self.head\n",
    "        while p:\n",
    "            print(p.element,end='-->')\n",
    "            p=p.next\n",
    "        print()\n",
    "        \n",
    "    def search(self,key):\n",
    "        p=self.head\n",
    "        index=0\n",
    "        while p:\n",
    "            if p.element==key:\n",
    "                return index\n",
    "            p=p.next\n",
    "            index=index+1\n",
    "        return -1"
   ]
  },
  {
   "cell_type": "code",
   "execution_count": 28,
   "metadata": {},
   "outputs": [
    {
     "name": "stdout",
     "output_type": "stream",
     "text": [
      "length of ll is: 3\n",
      "7-->3-->10-->\n",
      "-1\n",
      "length of ll is: 5\n",
      "7-->3-->10-->1-->3-->\n",
      "3\n"
     ]
    }
   ],
   "source": [
    "L=LinkedList()\n",
    "L.addlast(7)\n",
    "L.addlast(3)\n",
    "L.addlast(10)\n",
    "print('length of ll is:',len(L))\n",
    "L.display()\n",
    "print(L.search(1))\n",
    "L.addlast(1)\n",
    "L.addlast(3)\n",
    "print('length of ll is:',len(L))\n",
    "L.display()\n",
    "print(L.search(1))"
   ]
  },
  {
   "cell_type": "markdown",
   "metadata": {},
   "source": [
    "# <u> Insert element at the beginning of list</u>"
   ]
  },
  {
   "cell_type": "markdown",
   "metadata": {},
   "source": [
    "<img src='addfirst.png'>"
   ]
  },
  {
   "cell_type": "code",
   "execution_count": 35,
   "metadata": {},
   "outputs": [],
   "source": [
    "class Node:\n",
    "    __slots__='element','next'\n",
    "    def __init__(self,element,next):\n",
    "        self.element=element\n",
    "        self.next=next\n",
    "        \n",
    "class LinkedList:\n",
    "    def __init__(self):\n",
    "        self.head=None\n",
    "        self.tail=None\n",
    "        self.size=0\n",
    "        \n",
    "    def __len__(self):\n",
    "        return self.size\n",
    "    \n",
    "    def isempty(self):\n",
    "        return self.size==0\n",
    "    \n",
    "    def addlast(self,value):\n",
    "        newest=Node(value,None)\n",
    "        if self.isempty():\n",
    "            self.head=newest\n",
    "        else:\n",
    "            self.tail.next=newest\n",
    "        self.tail=newest\n",
    "        self.size+=1\n",
    "    \n",
    "    def addfirst(self,value):\n",
    "        newest=Node(value,None)\n",
    "        if self.isempty():\n",
    "            self.head=newest\n",
    "            self.tail=newest\n",
    "        else:\n",
    "            newest.next=self.head\n",
    "        self.head=newest\n",
    "        self.size+=1\n",
    "        \n",
    "    def display(self):\n",
    "        p=self.head\n",
    "        while p:\n",
    "            print(p.element,end='-->')\n",
    "            p=p.next\n",
    "        print()\n",
    "        \n",
    "    def search(self,key):\n",
    "        p=self.head\n",
    "        index=0\n",
    "        while p:\n",
    "            if p.element==key:\n",
    "                return index\n",
    "            p=p.next\n",
    "            index=index+1\n",
    "        return -1"
   ]
  },
  {
   "cell_type": "code",
   "execution_count": 36,
   "metadata": {},
   "outputs": [
    {
     "name": "stdout",
     "output_type": "stream",
     "text": [
      "length of ll is: 3\n",
      "7-->3-->10-->\n",
      "-1\n",
      "length of ll is: 5\n",
      "3-->1-->7-->3-->10-->\n",
      "1\n"
     ]
    }
   ],
   "source": [
    "L=LinkedList()\n",
    "L.addlast(7)\n",
    "L.addlast(3)\n",
    "L.addlast(10)\n",
    "print('length of ll is:',len(L))\n",
    "L.display()\n",
    "print(L.search(1))\n",
    "L.addfirst(1)\n",
    "L.addfirst(3)\n",
    "print('length of ll is:',len(L))\n",
    "L.display()\n",
    "print(L.search(1))"
   ]
  },
  {
   "cell_type": "markdown",
   "metadata": {},
   "source": [
    "# <u> Insert Element anywhere in a list</u>"
   ]
  },
  {
   "cell_type": "markdown",
   "metadata": {},
   "source": [
    "<img src='anywhere.png'>"
   ]
  },
  {
   "cell_type": "code",
   "execution_count": 58,
   "metadata": {},
   "outputs": [],
   "source": [
    "class Node:\n",
    "    __slots__='element','next'\n",
    "    def __init__(self,element,next):\n",
    "        self.element=element\n",
    "        self.next=next\n",
    "        \n",
    "class LinkedList:\n",
    "    def __init__(self):\n",
    "        self.head=None\n",
    "        self.tail=None\n",
    "        self.size=0\n",
    "        \n",
    "    def __len__(self):\n",
    "        return self.size\n",
    "    \n",
    "    def isempty(self):\n",
    "        return self.size==0\n",
    "    \n",
    "    def addlast(self,value):\n",
    "        newest=Node(value,None)\n",
    "        if self.isempty():\n",
    "            self.head=newest\n",
    "        else:\n",
    "            self.tail.next=newest\n",
    "        self.tail=newest\n",
    "        self.size+=1\n",
    "    \n",
    "    def addfirst(self,value):\n",
    "        newest=Node(value,None)\n",
    "        if self.isempty():\n",
    "            self.head=newest\n",
    "            self.tail=newest\n",
    "        else:\n",
    "            newest.next=self.head\n",
    "        self.head=newest\n",
    "        self.size+=1\n",
    "    \n",
    "    def addany(self,value,position):\n",
    "        newest=Node(value,None)\n",
    "        p=self.head\n",
    "        i=1\n",
    "        while i<position-1:\n",
    "            p=p.next\n",
    "            i=i+1\n",
    "        newest.next=p.next\n",
    "        p.next=newest\n",
    "        self.size+=1\n",
    "        \n",
    "        \n",
    "        \n",
    "    def display(self):\n",
    "        p=self.head\n",
    "        while p:\n",
    "            print(p.element,end='-->')\n",
    "            p=p.next\n",
    "        print()\n",
    "        \n",
    "    def search(self,key):\n",
    "        p=self.head\n",
    "        index=0\n",
    "        while p:\n",
    "            if p.element==key:\n",
    "                return index\n",
    "            p=p.next\n",
    "            index=index+1\n",
    "        return -1"
   ]
  },
  {
   "cell_type": "code",
   "execution_count": 59,
   "metadata": {},
   "outputs": [
    {
     "name": "stdout",
     "output_type": "stream",
     "text": [
      "length of ll is: 3\n",
      "7-->3-->10-->\n",
      "-1\n",
      "length of ll is: 5\n",
      "3-->1-->7-->3-->10-->\n",
      "1\n",
      "3-->1-->0-->7-->3-->10-->\n"
     ]
    }
   ],
   "source": [
    "L=LinkedList()\n",
    "L.addlast(7)\n",
    "L.addlast(3)\n",
    "L.addlast(10)\n",
    "print('length of ll is:',len(L))\n",
    "L.display()\n",
    "print(L.search(1))\n",
    "L.addfirst(1)\n",
    "L.addfirst(3)\n",
    "print('length of ll is:',len(L))\n",
    "L.display()\n",
    "print(L.search(1))\n",
    "L.addany(0,3)\n",
    "L.display()"
   ]
  },
  {
   "cell_type": "code",
   "execution_count": null,
   "metadata": {},
   "outputs": [],
   "source": []
  }
 ],
 "metadata": {
  "kernelspec": {
   "display_name": "Python 3",
   "language": "python",
   "name": "python3"
  },
  "language_info": {
   "codemirror_mode": {
    "name": "ipython",
    "version": 3
   },
   "file_extension": ".py",
   "mimetype": "text/x-python",
   "name": "python",
   "nbconvert_exporter": "python",
   "pygments_lexer": "ipython3",
   "version": "3.5.4"
  }
 },
 "nbformat": 4,
 "nbformat_minor": 4
}
