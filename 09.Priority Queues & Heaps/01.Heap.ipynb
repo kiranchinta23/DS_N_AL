{
 "cells": [
  {
   "cell_type": "markdown",
   "metadata": {},
   "source": [
    "<img src='pq.png'>"
   ]
  },
  {
   "cell_type": "markdown",
   "metadata": {},
   "source": [
    "# <u>Heap Data Structure </u>\n",
    "<img src='heap.png'>\n",
    "\n",
    "# <u>Heap Examples</u>\n",
    "<img src='heap_ex.png'>\n",
    "\n",
    "# <u>Heap Abstract Data Type </u>\n",
    "<img src='heap_adt.png'>"
   ]
  },
  {
   "cell_type": "markdown",
   "metadata": {},
   "source": [
    "<img src='heap_insertion.png'>\n",
    "<img src='heap_insertion_ex.png'>"
   ]
  },
  {
   "cell_type": "markdown",
   "metadata": {},
   "source": [
    "<img src='heap_insert_fun.png'>"
   ]
  },
  {
   "cell_type": "code",
   "execution_count": 4,
   "metadata": {},
   "outputs": [],
   "source": [
    "class Heap:\n",
    "    def __init__(self):\n",
    "        self.maxsize=10\n",
    "        self.data=[-1]*self.maxsize\n",
    "        self.csize=0\n",
    "        \n",
    "    def __len__(self):\n",
    "        return len(self.data)\n",
    "    \n",
    "    def isempty(self):\n",
    "        return len(self.data)==0\n",
    "    \n",
    "    def insert(self,e):\n",
    "        if self.csize>self.maxsize:\n",
    "            print('size is full')\n",
    "            return\n",
    "        \n",
    "        self.csize+=1\n",
    "        i=self.csize\n",
    "        \n",
    "        while i>1 and e>self.data[i//2]:\n",
    "            self.data[i]=self.data[i//2]\n",
    "            i=i//2\n",
    "        \n",
    "        self.data[i]=e\n",
    "    \n",
    "    def max(self):\n",
    "        if self.isempty():\n",
    "            print('heap is empty')\n",
    "        return self.data[1]\n",
    "        "
   ]
  },
  {
   "cell_type": "code",
   "execution_count": 6,
   "metadata": {},
   "outputs": [
    {
     "name": "stdout",
     "output_type": "stream",
     "text": [
      "[-1, 25, 20, 2, 14, 10, -1, -1, -1, -1]\n",
      "[-1, 40, 20, 25, 14, 10, 2, -1, -1, -1]\n"
     ]
    }
   ],
   "source": [
    "h=Heap()\n",
    "h.max()\n",
    "h.insert(25)\n",
    "h.insert(14)\n",
    "h.insert(2)\n",
    "h.insert(20)\n",
    "h.insert(10)\n",
    "print(h.data)\n",
    "h.insert(40)\n",
    "print(h.data)"
   ]
  },
  {
   "cell_type": "markdown",
   "metadata": {},
   "source": [
    "<img src='heap_del.png'>"
   ]
  },
  {
   "cell_type": "markdown",
   "metadata": {},
   "source": [
    "<img src='heap_del_ex.jpg'>"
   ]
  },
  {
   "cell_type": "markdown",
   "metadata": {},
   "source": [
    "<img src='heap_del_fun.png'>"
   ]
  },
  {
   "cell_type": "code",
   "execution_count": 11,
   "metadata": {},
   "outputs": [],
   "source": [
    "class Heap:\n",
    "    def __init__(self):\n",
    "        self.maxsize=10\n",
    "        self.data=[-1]*self.maxsize\n",
    "        self.csize=0\n",
    "        \n",
    "    def __len__(self):\n",
    "        return len(self.data)\n",
    "    \n",
    "    def isempty(self):\n",
    "        return len(self.data)==0\n",
    "    \n",
    "    def insert(self,e):\n",
    "        if self.csize>self.maxsize:\n",
    "            print('size is full')\n",
    "            return\n",
    "        \n",
    "        self.csize+=1\n",
    "        i=self.csize\n",
    "        \n",
    "        while i>1 and e>self.data[i//2]:\n",
    "            self.data[i]=self.data[i//2]\n",
    "            i=i//2\n",
    "        \n",
    "        self.data[i]=e\n",
    "    \n",
    "    def max(self):\n",
    "        if self.isempty():\n",
    "            print('heap is empty')\n",
    "        return self.data[1]\n",
    "    \n",
    "    def deleteMax(self):\n",
    "        if self.isempty():\n",
    "            print('heap is empty')\n",
    "            return\n",
    "        e=self.data[1]\n",
    "        self.data[1]=self.data[self.csize]\n",
    "        self.data[self.csize]=-1\n",
    "        self.csize-=1\n",
    "        \n",
    "        i=1\n",
    "        j=i*2\n",
    "        \n",
    "        while j<=self.csize:\n",
    "            if self.data[j]<self.data[j+1]:\n",
    "                j=j+1\n",
    "            if self.data[i]<self.data[j]:\n",
    "                temp=self.data[i]\n",
    "                self.data[i]=self.data[j]\n",
    "                self.data[j]=temp\n",
    "                i=j\n",
    "                j=i*2\n",
    "            else:\n",
    "                break\n",
    "        return e"
   ]
  },
  {
   "cell_type": "code",
   "execution_count": 17,
   "metadata": {},
   "outputs": [
    {
     "name": "stdout",
     "output_type": "stream",
     "text": [
      "[-1, 25, 20, 2, 14, 10, -1, -1, -1, -1]\n",
      "[-1, 40, 20, 25, 14, 10, 2, -1, -1, -1]\n"
     ]
    }
   ],
   "source": [
    "h=Heap()\n",
    "h.max()\n",
    "h.insert(25)\n",
    "h.insert(14)\n",
    "h.insert(2)\n",
    "h.insert(20)\n",
    "h.insert(10)\n",
    "print(h.data)\n",
    "h.insert(40)\n",
    "print(h.data)"
   ]
  },
  {
   "cell_type": "code",
   "execution_count": 18,
   "metadata": {},
   "outputs": [
    {
     "data": {
      "text/plain": [
       "40"
      ]
     },
     "execution_count": 18,
     "metadata": {},
     "output_type": "execute_result"
    }
   ],
   "source": [
    "h.deleteMax()"
   ]
  },
  {
   "cell_type": "code",
   "execution_count": 19,
   "metadata": {},
   "outputs": [
    {
     "name": "stdout",
     "output_type": "stream",
     "text": [
      "[-1, 25, 20, 2, 14, 10, -1, -1, -1, -1]\n"
     ]
    }
   ],
   "source": [
    "print(h.data)"
   ]
  },
  {
   "cell_type": "code",
   "execution_count": 20,
   "metadata": {},
   "outputs": [
    {
     "name": "stdout",
     "output_type": "stream",
     "text": [
      "25\n",
      "[-1, 20, 14, 2, 10, -1, -1, -1, -1, -1]\n"
     ]
    }
   ],
   "source": [
    "print(h.deleteMax())\n",
    "print(h.data)"
   ]
  },
  {
   "cell_type": "code",
   "execution_count": null,
   "metadata": {},
   "outputs": [],
   "source": []
  },
  {
   "cell_type": "markdown",
   "metadata": {},
   "source": [
    "# <u>Heap Module</u>"
   ]
  },
  {
   "cell_type": "code",
   "execution_count": 26,
   "metadata": {},
   "outputs": [
    {
     "name": "stdout",
     "output_type": "stream",
     "text": [
      "[2, 10, 14, 25, 20]\n",
      "[2, 10, 14, 25, 20, 40]\n"
     ]
    }
   ],
   "source": [
    "import heapq as heap\n",
    "\n",
    "l1=[]\n",
    "\n",
    "heap.heappush(l1,25)\n",
    "heap.heappush(l1,14)\n",
    "heap.heappush(l1,2)\n",
    "heap.heappush(l1,20)\n",
    "heap.heappush(l1,10)\n",
    "print(l1)\n",
    "heap.heappush(l1,40)\n",
    "print(l1)"
   ]
  },
  {
   "cell_type": "code",
   "execution_count": 27,
   "metadata": {},
   "outputs": [
    {
     "name": "stdout",
     "output_type": "stream",
     "text": [
      "2\n",
      "10\n"
     ]
    }
   ],
   "source": [
    "print(heap.heappop(l1))\n",
    "print(heap.heappop(l1))"
   ]
  },
  {
   "cell_type": "code",
   "execution_count": 28,
   "metadata": {},
   "outputs": [
    {
     "name": "stdout",
     "output_type": "stream",
     "text": [
      "[14, 20, 40, 25]\n"
     ]
    }
   ],
   "source": [
    "print(l1)"
   ]
  },
  {
   "cell_type": "code",
   "execution_count": 29,
   "metadata": {},
   "outputs": [
    {
     "name": "stdout",
     "output_type": "stream",
     "text": [
      "14\n"
     ]
    }
   ],
   "source": [
    "# frst push and second pop\n",
    "print(heap.heappushpop(l1,55))"
   ]
  },
  {
   "cell_type": "code",
   "execution_count": 30,
   "metadata": {},
   "outputs": [
    {
     "name": "stdout",
     "output_type": "stream",
     "text": [
      "[20, 25, 40, 55]\n"
     ]
    }
   ],
   "source": [
    "print(l1)"
   ]
  },
  {
   "cell_type": "code",
   "execution_count": 31,
   "metadata": {},
   "outputs": [
    {
     "name": "stdout",
     "output_type": "stream",
     "text": [
      "20\n"
     ]
    }
   ],
   "source": [
    "# first pop and second push\n",
    "print(heap.heapreplace(l1,11))"
   ]
  },
  {
   "cell_type": "code",
   "execution_count": 32,
   "metadata": {},
   "outputs": [
    {
     "name": "stdout",
     "output_type": "stream",
     "text": [
      "[11, 25, 40, 55]\n"
     ]
    }
   ],
   "source": [
    "print(l1)"
   ]
  },
  {
   "cell_type": "code",
   "execution_count": 33,
   "metadata": {},
   "outputs": [
    {
     "name": "stdout",
     "output_type": "stream",
     "text": [
      "[20, 14, 2, 15, 10, 21]\n",
      "[2, 10, 20, 15, 14, 21]\n"
     ]
    }
   ],
   "source": [
    "# convert list to heap\n",
    "l2=[20,14,2,15,10,21]\n",
    "print(l2)\n",
    "heap.heapify(l2)\n",
    "print(l2)"
   ]
  },
  {
   "cell_type": "code",
   "execution_count": 34,
   "metadata": {},
   "outputs": [
    {
     "name": "stdout",
     "output_type": "stream",
     "text": [
      "[2, 10, 14]\n",
      "[21, 20, 15]\n"
     ]
    }
   ],
   "source": [
    "# first 3 smallest numbers\n",
    "print(heap.nsmallest(3,l2))\n",
    "\n",
    "#first 3 largest number\n",
    "print(heap.nlargest(3,l2))\n"
   ]
  },
  {
   "cell_type": "code",
   "execution_count": null,
   "metadata": {},
   "outputs": [],
   "source": []
  }
 ],
 "metadata": {
  "kernelspec": {
   "display_name": "Python 3",
   "language": "python",
   "name": "python3"
  },
  "language_info": {
   "codemirror_mode": {
    "name": "ipython",
    "version": 3
   },
   "file_extension": ".py",
   "mimetype": "text/x-python",
   "name": "python",
   "nbconvert_exporter": "python",
   "pygments_lexer": "ipython3",
   "version": "3.7.3"
  }
 },
 "nbformat": 4,
 "nbformat_minor": 4
}
