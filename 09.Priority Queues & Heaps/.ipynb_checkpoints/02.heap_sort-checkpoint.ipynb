{
 "cells": [
  {
   "cell_type": "markdown",
   "metadata": {},
   "source": [
    "<img src='heap_sort.png'>\n",
    "<img src='heap_sort_comp.png'>"
   ]
  },
  {
   "cell_type": "code",
   "execution_count": 10,
   "metadata": {},
   "outputs": [],
   "source": [
    "import heapq as heap\n",
    "\n",
    "def heapsort(l1):\n",
    "    l2=[]\n",
    "    l3=[]\n",
    "    print('actual list')\n",
    "    print(l1)\n",
    "    for i in l1:\n",
    "        heap.heappush(l2,i)\n",
    "    print('heap data structure')\n",
    "    print(l2)\n",
    "\n",
    "    while l2:\n",
    "        l3.append(heap.heappop(l2))\n",
    "    print('after heap sort')\n",
    "    print(l3)\n",
    "    \n",
    "    return l3"
   ]
  },
  {
   "cell_type": "code",
   "execution_count": 11,
   "metadata": {},
   "outputs": [
    {
     "name": "stdout",
     "output_type": "stream",
     "text": [
      "actual list\n",
      "[20, 14, 2, 15, 10, 21]\n",
      "heap data structure\n",
      "[2, 10, 14, 20, 15, 21]\n",
      "after heap sort\n",
      "[2, 10, 14, 15, 20, 21]\n"
     ]
    },
    {
     "data": {
      "text/plain": [
       "[2, 10, 14, 15, 20, 21]"
      ]
     },
     "execution_count": 11,
     "metadata": {},
     "output_type": "execute_result"
    }
   ],
   "source": [
    "l1=[20, 14, 2, 15, 10, 21]\n",
    "heapsort(l1)"
   ]
  },
  {
   "cell_type": "markdown",
   "metadata": {},
   "source": [
    "# another method\n"
   ]
  },
  {
   "cell_type": "code",
   "execution_count": 12,
   "metadata": {},
   "outputs": [],
   "source": [
    "class Heap:\n",
    "    def __init__(self):\n",
    "        self.maxsize=10\n",
    "        self.data=[-1]*self.maxsize\n",
    "        self.csize=0\n",
    "        \n",
    "    def __len__(self):\n",
    "        return len(self.data)\n",
    "    \n",
    "    def isempty(self):\n",
    "        return len(self.data)==0\n",
    "    \n",
    "    def insert(self,e):\n",
    "        if self.csize>self.maxsize:\n",
    "            print('size is full')\n",
    "            return\n",
    "        \n",
    "        self.csize+=1\n",
    "        i=self.csize\n",
    "        \n",
    "        while i>1 and e>self.data[i//2]:\n",
    "            self.data[i]=self.data[i//2]\n",
    "            i=i//2\n",
    "        \n",
    "        self.data[i]=e\n",
    "    \n",
    "    def max(self):\n",
    "        if self.isempty():\n",
    "            print('heap is empty')\n",
    "        return self.data[1]\n",
    "    \n",
    "    def deleteMax(self):\n",
    "        if self.isempty():\n",
    "            print('heap is empty')\n",
    "            return\n",
    "        e=self.data[1]\n",
    "        self.data[1]=self.data[self.csize]\n",
    "        self.data[self.csize]=-1\n",
    "        self.csize-=1\n",
    "        \n",
    "        i=1\n",
    "        j=i*2\n",
    "        \n",
    "        while j<=self.csize:\n",
    "            if self.data[j]<self.data[j+1]:\n",
    "                j=j+1\n",
    "            if self.data[i]<self.data[j]:\n",
    "                temp=self.data[i]\n",
    "                self.data[i]=self.data[j]\n",
    "                self.data[j]=temp\n",
    "                i=j\n",
    "                j=i*2\n",
    "            else:\n",
    "                break\n",
    "        return e"
   ]
  },
  {
   "cell_type": "code",
   "execution_count": 13,
   "metadata": {},
   "outputs": [],
   "source": [
    "def heapsort(A):\n",
    "    h=Heap()\n",
    "    n=len(A)\n",
    "    for i in range(n):\n",
    "        h.insert(A[i])\n",
    "    \n",
    "    k=n-1\n",
    "    for i in range(h.csize):\n",
    "        A[k]=h.deleteMax()\n",
    "        k=k-1\n",
    "    return A"
   ]
  },
  {
   "cell_type": "code",
   "execution_count": 14,
   "metadata": {},
   "outputs": [
    {
     "data": {
      "text/plain": [
       "[2, 10, 14, 15, 20, 21]"
      ]
     },
     "execution_count": 14,
     "metadata": {},
     "output_type": "execute_result"
    }
   ],
   "source": [
    "l1=[20, 14, 2, 15, 10, 21]\n",
    "heapsort(l1)"
   ]
  },
  {
   "cell_type": "code",
   "execution_count": null,
   "metadata": {},
   "outputs": [],
   "source": []
  }
 ],
 "metadata": {
  "kernelspec": {
   "display_name": "Python 3",
   "language": "python",
   "name": "python3"
  },
  "language_info": {
   "codemirror_mode": {
    "name": "ipython",
    "version": 3
   },
   "file_extension": ".py",
   "mimetype": "text/x-python",
   "name": "python",
   "nbconvert_exporter": "python",
   "pygments_lexer": "ipython3",
   "version": "3.7.3"
  }
 },
 "nbformat": 4,
 "nbformat_minor": 4
}
