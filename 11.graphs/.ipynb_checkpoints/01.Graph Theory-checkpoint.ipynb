{
 "cells": [
  {
   "cell_type": "markdown",
   "metadata": {},
   "source": [
    "<img src='graph.png'>\n",
    "<img src='graph2.png'>\n",
    "<img src='graph3.png'>\n",
    "<img src='graph4.png'>\n",
    "<img src='graph5.png'>\n",
    "<img src='graph6.png'>"
   ]
  },
  {
   "cell_type": "markdown",
   "metadata": {},
   "source": [
    "# <span style='background :yellow' > Degree of the Vertex</span> \n"
   ]
  },
  {
   "cell_type": "markdown",
   "metadata": {},
   "source": [
    "<img src='degree1.png'>\n",
    "<img src='degree2.png'>"
   ]
  },
  {
   "cell_type": "markdown",
   "metadata": {},
   "source": [
    "# <span style='background :yellow' > <span style='color:Blue'> Graphs: Path and Cycle  </span>\n",
    "</span> \n"
   ]
  },
  {
   "cell_type": "markdown",
   "metadata": {},
   "source": [
    "<img src='path.png'>\n",
    "<img src='cycle.png'>\n",
    "<img src='acyclic.png'>"
   ]
  },
  {
   "cell_type": "markdown",
   "metadata": {},
   "source": [
    "# <span style='background :yellow' > <span style='color:Blue'> Graphs: Subgraphs and Connected Components  </span>\n",
    "</span> "
   ]
  },
  {
   "attachments": {},
   "cell_type": "markdown",
   "metadata": {},
   "source": [
    "<img src='subgraph.png'>\n",
    "<img src='cc.png'>\n",
    "<img src='articulation.png'>\n",
    "<img src='bi.png'>\n",
    "<img src='strong.png'>"
   ]
  },
  {
   "cell_type": "code",
   "execution_count": null,
   "metadata": {},
   "outputs": [],
   "source": []
  }
 ],
 "metadata": {
  "kernelspec": {
   "display_name": "Python 3",
   "language": "python",
   "name": "python3"
  },
  "language_info": {
   "codemirror_mode": {
    "name": "ipython",
    "version": 3
   },
   "file_extension": ".py",
   "mimetype": "text/x-python",
   "name": "python",
   "nbconvert_exporter": "python",
   "pygments_lexer": "ipython3",
   "version": "3.7.3"
  }
 },
 "nbformat": 4,
 "nbformat_minor": 4
}
