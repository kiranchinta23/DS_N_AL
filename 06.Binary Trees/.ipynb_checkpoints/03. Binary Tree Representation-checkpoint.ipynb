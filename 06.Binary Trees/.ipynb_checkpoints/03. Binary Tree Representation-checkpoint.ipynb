{
 "cells": [
  {
   "cell_type": "markdown",
   "metadata": {},
   "source": [
    "# <u>Array Representation\n",
    "<img src='bta.png'>"
   ]
  },
  {
   "cell_type": "markdown",
   "metadata": {},
   "source": [
    "# <u> Linked List Representation\n",
    "<img src='btll.png'>"
   ]
  },
  {
   "cell_type": "markdown",
   "metadata": {},
   "source": [
    "# <u>PreOrder Traversal</u>\n",
    "<img src='preorder.png'>\n",
    "\n",
    "# <u>InOrder Traversal</u>\n",
    "<img src='inorder.png'>\n",
    "\n",
    "# <u>PostOrder Traversal</u>\n",
    "<img src='postorder.png'>\n",
    "\n",
    "# <u>LevelOrder Traversal</u>\n",
    "<img src='levelorder.png'>\n",
    "\n",
    "<img src='traversal.png'>\n",
    "\n",
    "<img src='traversal1.png'>"
   ]
  },
  {
   "cell_type": "markdown",
   "metadata": {},
   "source": [
    "<img src='btnode.png'>\n",
    "<img src='btmaketree.png'>\n",
    "<img src='btpreorder.png'>\n",
    "<img src='btinorder.png'>\n",
    "<img src='btpostorder.png'>"
   ]
  },
  {
   "cell_type": "code",
   "execution_count": 3,
   "metadata": {},
   "outputs": [],
   "source": [
    "class Node:\n",
    "    __slots__='element','left','right'\n",
    "    def __init__(self,element,left=None,right=None):\n",
    "        self.element=element\n",
    "        self.left=left\n",
    "        self.right=right"
   ]
  },
  {
   "cell_type": "code",
   "execution_count": 24,
   "metadata": {},
   "outputs": [],
   "source": [
    "class BinaryTree:\n",
    "    def __init__(self):\n",
    "        self.root=None\n",
    "    \n",
    "    def maketree(self,e,left,right):\n",
    "        self.root=Node(e,left.root,right.root)\n",
    "    \n",
    "    def inorder(self,troot):\n",
    "        if troot:\n",
    "            self.inorder(troot.left)\n",
    "            print(troot.element,end=' ')\n",
    "            self.inorder(troot.right)\n",
    "        \n",
    "    def preorder(self,troot):\n",
    "        if troot:\n",
    "            print(troot.element,end=' ')\n",
    "            self.preorder(troot.left)\n",
    "            self.preorder(troot.right)\n",
    "        \n",
    "    def postorder(self,troot):\n",
    "        if troot:\n",
    "            self.postorder(troot.left)\n",
    "            self.postorder(troot.right)\n",
    "            print(troot.element,end=' ')"
   ]
  },
  {
   "cell_type": "code",
   "execution_count": 25,
   "metadata": {},
   "outputs": [],
   "source": [
    "a=BinaryTree()\n",
    "b=BinaryTree()\n",
    "c=BinaryTree()\n",
    "x=BinaryTree()\n"
   ]
  },
  {
   "cell_type": "code",
   "execution_count": 26,
   "metadata": {},
   "outputs": [],
   "source": [
    "a.maketree(20,x,x)\n",
    "b.maketree(30,x,x)\n",
    "c.maketree(10,a,b)\n"
   ]
  },
  {
   "cell_type": "code",
   "execution_count": 29,
   "metadata": {},
   "outputs": [
    {
     "name": "stdout",
     "output_type": "stream",
     "text": [
      "20 10 30 \n",
      "10 20 30 \n",
      "20 30 10 "
     ]
    }
   ],
   "source": [
    "c.inorder(c.root)\n",
    "print()\n",
    "c.preorder(c.root)\n",
    "print()\n",
    "c.postorder(c.root)"
   ]
  },
  {
   "cell_type": "code",
   "execution_count": 30,
   "metadata": {},
   "outputs": [],
   "source": [
    "a=BinaryTree()\n",
    "b=BinaryTree()\n",
    "c=BinaryTree()\n",
    "r=BinaryTree()\n",
    "s=BinaryTree()\n",
    "t=BinaryTree()\n",
    "x=BinaryTree()"
   ]
  },
  {
   "cell_type": "code",
   "execution_count": 31,
   "metadata": {},
   "outputs": [],
   "source": [
    "r.maketree(40,x,x)\n",
    "t.maketree(60,x,x)\n",
    "s.maketree(50,x,t)\n",
    "b.maketree(20,r,x)\n",
    "c.maketree(30,s,x)\n",
    "a.maketree(10,b,c)\n",
    "\n"
   ]
  },
  {
   "cell_type": "code",
   "execution_count": 33,
   "metadata": {},
   "outputs": [
    {
     "name": "stdout",
     "output_type": "stream",
     "text": [
      "10 20 40 30 50 60 "
     ]
    }
   ],
   "source": [
    "a.preorder(a.root)"
   ]
  },
  {
   "cell_type": "code",
   "execution_count": 34,
   "metadata": {},
   "outputs": [
    {
     "name": "stdout",
     "output_type": "stream",
     "text": [
      "40 20 10 50 60 30 "
     ]
    }
   ],
   "source": [
    "a.inorder(a.root)"
   ]
  },
  {
   "cell_type": "code",
   "execution_count": 35,
   "metadata": {},
   "outputs": [
    {
     "name": "stdout",
     "output_type": "stream",
     "text": [
      "40 20 60 50 30 10 "
     ]
    }
   ],
   "source": [
    "a.postorder(a.root)"
   ]
  },
  {
   "cell_type": "markdown",
   "metadata": {},
   "source": [
    "# Count Nodes\n",
    "<img src='countnodes.png'>"
   ]
  },
  {
   "cell_type": "code",
   "execution_count": 36,
   "metadata": {},
   "outputs": [],
   "source": [
    "class BinaryTree:\n",
    "    def __init__(self):\n",
    "        self.root=None\n",
    "    \n",
    "    def maketree(self,e,left,right):\n",
    "        self.root=Node(e,left.root,right.root)\n",
    "    \n",
    "    def inorder(self,troot):\n",
    "        if troot:\n",
    "            self.inorder(troot.left)\n",
    "            print(troot.element,end=' ')\n",
    "            self.inorder(troot.right)\n",
    "        \n",
    "    def preorder(self,troot):\n",
    "        if troot:\n",
    "            print(troot.element,end=' ')\n",
    "            self.preorder(troot.left)\n",
    "            self.preorder(troot.right)\n",
    "        \n",
    "    def postorder(self,troot):\n",
    "        if troot:\n",
    "            self.postorder(troot.left)\n",
    "            self.postorder(troot.right)\n",
    "            print(troot.element,end=' ')\n",
    "            \n",
    "    def count(self,troot):\n",
    "        if troot:\n",
    "            x=self.count(troot.left)\n",
    "            y=self.count(troot.right)\n",
    "            return x+y+1\n",
    "        return 0"
   ]
  },
  {
   "cell_type": "code",
   "execution_count": 37,
   "metadata": {},
   "outputs": [
    {
     "name": "stdout",
     "output_type": "stream",
     "text": [
      "40 20 60 50 30 10 "
     ]
    },
    {
     "data": {
      "text/plain": [
       "6"
      ]
     },
     "execution_count": 37,
     "metadata": {},
     "output_type": "execute_result"
    }
   ],
   "source": [
    "a=BinaryTree()\n",
    "b=BinaryTree()\n",
    "c=BinaryTree()\n",
    "r=BinaryTree()\n",
    "s=BinaryTree()\n",
    "t=BinaryTree()\n",
    "x=BinaryTree()\n",
    "r.maketree(40,x,x)\n",
    "t.maketree(60,x,x)\n",
    "s.maketree(50,x,t)\n",
    "b.maketree(20,r,x)\n",
    "c.maketree(30,s,x)\n",
    "a.maketree(10,b,c)\n",
    "a.postorder(a.root)\n",
    "a.count(a.root)"
   ]
  },
  {
   "cell_type": "markdown",
   "metadata": {},
   "source": [
    "# finding Height\n",
    "<img src='btheight.png'>"
   ]
  },
  {
   "cell_type": "code",
   "execution_count": 5,
   "metadata": {},
   "outputs": [],
   "source": [
    "class Node:\n",
    "    __slots__='element','left','right'\n",
    "    def __init__(self,element,left=None,right=None):\n",
    "        self.element=element\n",
    "        self.left=left\n",
    "        self.right=right\n",
    "\n",
    "\n",
    "class BinaryTree:\n",
    "    def __init__(self):\n",
    "        self.root=None\n",
    "    \n",
    "    def maketree(self,e,left,right):\n",
    "        self.root=Node(e,left.root,right.root)\n",
    "    \n",
    "    def inorder(self,troot):\n",
    "        if troot:\n",
    "            self.inorder(troot.left)\n",
    "            print(troot.element,end=' ')\n",
    "            self.inorder(troot.right)\n",
    "        \n",
    "    def preorder(self,troot):\n",
    "        if troot:\n",
    "            print(troot.element,end=' ')\n",
    "            self.preorder(troot.left)\n",
    "            self.preorder(troot.right)\n",
    "        \n",
    "    def postorder(self,troot):\n",
    "        if troot:\n",
    "            self.postorder(troot.left)\n",
    "            self.postorder(troot.right)\n",
    "            print(troot.element,end=' ')\n",
    "            \n",
    "    def count(self,troot):\n",
    "        if troot:\n",
    "            x=self.count(troot.left)\n",
    "            y=self.count(troot.right)\n",
    "            return x+y+1\n",
    "        return 0\n",
    "    \n",
    "    def level(self,troot):\n",
    "        if troot:\n",
    "            x=self.level(troot.left)\n",
    "            y=self.level(troot.right)\n",
    "            if x>y:\n",
    "                return x+1\n",
    "            else:\n",
    "                return y+1\n",
    "        return 0"
   ]
  },
  {
   "cell_type": "code",
   "execution_count": 6,
   "metadata": {},
   "outputs": [
    {
     "name": "stdout",
     "output_type": "stream",
     "text": [
      "Inorder Traversal\n",
      "40 20 10 50 60 30 \n",
      "Preorder Traversal\n",
      "10 20 40 30 50 60 \n",
      "Postorder Traversal\n",
      "40 20 60 50 30 10 level\n",
      "4\n",
      "\n"
     ]
    }
   ],
   "source": [
    "x = BinaryTree()\n",
    "y = BinaryTree()\n",
    "z = BinaryTree()\n",
    "r = BinaryTree()\n",
    "s = BinaryTree()\n",
    "t = BinaryTree()\n",
    "a = BinaryTree()\n",
    "x.maketree(40,a,a)\n",
    "y.maketree(60,a,a)\n",
    "z.maketree(20,x,a)\n",
    "r.maketree(50,a,y)\n",
    "s.maketree(30,r,a)\n",
    "t.maketree(10,z,s)\n",
    "print('Inorder Traversal')\n",
    "t.inorder(t.root)\n",
    "print()\n",
    "print('Preorder Traversal')\n",
    "t.preorder(t.root)\n",
    "print()\n",
    "print('Postorder Traversal')\n",
    "t.postorder(t.root)\n",
    "print('level')\n",
    "print(t.level(t.root))\n",
    "print()"
   ]
  },
  {
   "cell_type": "code",
   "execution_count": null,
   "metadata": {},
   "outputs": [],
   "source": []
  }
 ],
 "metadata": {
  "kernelspec": {
   "display_name": "Python 3",
   "language": "python",
   "name": "python3"
  },
  "language_info": {
   "codemirror_mode": {
    "name": "ipython",
    "version": 3
   },
   "file_extension": ".py",
   "mimetype": "text/x-python",
   "name": "python",
   "nbconvert_exporter": "python",
   "pygments_lexer": "ipython3",
   "version": "3.7.3"
  }
 },
 "nbformat": 4,
 "nbformat_minor": 4
}
