{
 "cells": [
  {
   "cell_type": "markdown",
   "metadata": {},
   "source": [
    "# <u>Linear and Non Linear structures\n",
    "<img src='tree.png'>\n",
    "\n",
    "## <u>Nodes and edges\n",
    "<img src='node.png'>\n",
    "    \n"
   ]
  },
  {
   "cell_type": "markdown",
   "metadata": {},
   "source": [
    "# <u> 2. Trees - Terminology"
   ]
  },
  {
   "cell_type": "markdown",
   "metadata": {},
   "source": [
    "## <u> 2.1Root\n",
    "<img src='root.png'>    \n",
    "## <u> 2.2 Siblings\n",
    "**same parent**\n",
    "<img src='siblings.png'>         \n",
    "## <u> 2.4 External Nodes / Leaf Node\n",
    "<img src='external.png'> \n",
    "## <u> 2.5 Internal Nodes\n",
    "<img src='internal.png'> \n",
    "## <u> 2.6 Edge\n",
    "<img src='edge.png'>     \n",
    "## <u> 2.7 Path\n",
    "- root to leaf Node\n",
    "<img src='path.png'>        \n",
    "## <u> 2.8 Sub Tree\n",
    "<img src='subtree.png'>      \n",
    "## <u> 2.9 Forest\n",
    "<img src='forest.png'>       "
   ]
  },
  {
   "cell_type": "markdown",
   "metadata": {},
   "source": [
    "# <u>3.Trees - Heights and Levels\n",
    "- **Height**: no of edges in the path\n",
    "- **Level**:  no of nodes in the path\n",
    "<img src='height.png'>"
   ]
  },
  {
   "cell_type": "markdown",
   "metadata": {},
   "source": [
    "# <u> 4.Degree of Node and Tree\n",
    "<img src='degreeofnode.png'>\n",
    "<img src='degreeoftree.png'>"
   ]
  },
  {
   "cell_type": "code",
   "execution_count": null,
   "metadata": {},
   "outputs": [],
   "source": []
  }
 ],
 "metadata": {
  "kernelspec": {
   "display_name": "Python 3",
   "language": "python",
   "name": "python3"
  },
  "language_info": {
   "codemirror_mode": {
    "name": "ipython",
    "version": 3
   },
   "file_extension": ".py",
   "mimetype": "text/x-python",
   "name": "python",
   "nbconvert_exporter": "python",
   "pygments_lexer": "ipython3",
   "version": "3.7.3"
  }
 },
 "nbformat": 4,
 "nbformat_minor": 4
}
