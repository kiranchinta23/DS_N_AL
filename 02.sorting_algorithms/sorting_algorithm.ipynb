{
 "cells": [
  {
   "cell_type": "markdown",
   "metadata": {},
   "source": [
    "# different sorting algorithms\n",
    "\n",
    "<img src='sorting1.png'>\n",
    "\n",
    "7. heap sort ==> heaps and priority queue section\n",
    "\n",
    "9. bucket sort ==> hasing section\n"
   ]
  },
  {
   "cell_type": "markdown",
   "metadata": {},
   "source": [
    "## <span style=\"color:blue\"> Stable and unstable sorting </span>\n",
    "<img src='sorting2.png'>\n"
   ]
  },
  {
   "cell_type": "markdown",
   "metadata": {},
   "source": [
    "## <span style=\"color:blue\"> Selection sort </span>"
   ]
  },
  {
   "cell_type": "markdown",
   "metadata": {},
   "source": [
    "<img src='sorting3.png'>\n",
    "<img src='sorting4.png'>"
   ]
  },
  {
   "cell_type": "code",
   "execution_count": 26,
   "metadata": {},
   "outputs": [],
   "source": [
    "def selection_sort(A):\n",
    "    n=len(A)\n",
    "    for i in range(n-1):\n",
    "        position=i\n",
    "        for j in range(i+1,n):\n",
    "            if A[j]<A[position]:\n",
    "                position=j\n",
    "        temp=A[i]\n",
    "        A[i]=A[position]\n",
    "        A[position]=temp\n",
    "    \n",
    "    return A"
   ]
  },
  {
   "cell_type": "code",
   "execution_count": 27,
   "metadata": {},
   "outputs": [
    {
     "name": "stdout",
     "output_type": "stream",
     "text": [
      "[3, 5, 1, 9, 5, 2]\n",
      "[1, 2, 3, 5, 5, 9]\n"
     ]
    }
   ],
   "source": [
    "l=[3,5,1,9,5,2]\n",
    "print(l)\n",
    "print(selection_sort(l))"
   ]
  },
  {
   "cell_type": "code",
   "execution_count": 38,
   "metadata": {},
   "outputs": [],
   "source": [
    "def selection_sort(A):\n",
    "    n=len(A)\n",
    "    for i in range(n-1):\n",
    "        print('i value is',i)\n",
    "        C=A[i]\n",
    "        M=min(A[i+1:n])\n",
    "        if M<C:\n",
    "            print(A)\n",
    "            print(C,M,'min index value is',A[i+1:].index(M))\n",
    "            index=A.index(M)\n",
    "            temp=A[i]\n",
    "            A[i]=A[index]\n",
    "            A[index]=temp\n",
    "    return A"
   ]
  },
  {
   "cell_type": "code",
   "execution_count": 39,
   "metadata": {},
   "outputs": [
    {
     "name": "stdout",
     "output_type": "stream",
     "text": [
      "[3, 5, 1, 9, 5, 2]\n",
      "i value is 0\n",
      "[3, 5, 1, 9, 5, 2]\n",
      "3 1 min index value is 1\n",
      "i value is 1\n",
      "[1, 5, 3, 9, 5, 2]\n",
      "5 2 min index value is 3\n",
      "i value is 2\n",
      "i value is 3\n",
      "[1, 2, 3, 9, 5, 5]\n",
      "9 5 min index value is 0\n",
      "i value is 4\n",
      "[1, 2, 3, 5, 9, 5]\n",
      "9 5 min index value is 0\n",
      "[1, 2, 3, 9, 5, 5]\n"
     ]
    }
   ],
   "source": [
    "l=[3,5,1,9,5,2]\n",
    "print(l)\n",
    "print(selection_sort(l))"
   ]
  },
  {
   "cell_type": "code",
   "execution_count": 48,
   "metadata": {},
   "outputs": [
    {
     "ename": "ValueError",
     "evalue": "10 is not in list",
     "output_type": "error",
     "traceback": [
      "\u001b[1;31m---------------------------------------------------------------------------\u001b[0m",
      "\u001b[1;31mValueError\u001b[0m                                Traceback (most recent call last)",
      "\u001b[1;32m<ipython-input-48-64f0ba19cd4f>\u001b[0m in \u001b[0;36m<module>\u001b[1;34m\u001b[0m\n\u001b[1;32m----> 1\u001b[1;33m \u001b[0mprint\u001b[0m\u001b[1;33m(\u001b[0m\u001b[0ml\u001b[0m\u001b[1;33m.\u001b[0m\u001b[0mindex\u001b[0m\u001b[1;33m(\u001b[0m\u001b[1;36m10\u001b[0m\u001b[1;33m)\u001b[0m\u001b[1;33m)\u001b[0m\u001b[1;33m\u001b[0m\u001b[1;33m\u001b[0m\u001b[0m\n\u001b[0m",
      "\u001b[1;31mValueError\u001b[0m: 10 is not in list"
     ]
    }
   ],
   "source": [
    "print(l.index(10))"
   ]
  },
  {
   "cell_type": "markdown",
   "metadata": {},
   "source": [
    "## <span style=\"color:blue\"> Insertion sort </span>"
   ]
  },
  {
   "cell_type": "markdown",
   "metadata": {},
   "source": [
    "<img src='sorting5.png'>\n",
    "<img src='sorting6.png'>"
   ]
  },
  {
   "cell_type": "code",
   "execution_count": 9,
   "metadata": {},
   "outputs": [],
   "source": [
    "#algorithms\n",
    "def insertion_sort(A):\n",
    "    n=len(A)\n",
    "    for i in range(n):\n",
    "        cvalue=A[i]\n",
    "        position=i\n",
    "        while position>0 and A[position-1]>cvalue:\n",
    "            A[position]=A[position-1]\n",
    "            position=position-1\n",
    "        \n",
    "        A[position]=cvalue\n",
    "    return A"
   ]
  },
  {
   "cell_type": "code",
   "execution_count": 11,
   "metadata": {},
   "outputs": [
    {
     "name": "stdout",
     "output_type": "stream",
     "text": [
      "[3, 5, 1, 9, 5, 2]\n",
      "[1, 2, 3, 5, 5, 9]\n"
     ]
    }
   ],
   "source": [
    "l=[3,5,1,9,5,2]\n",
    "print(l)\n",
    "print(insertion_sort(l))"
   ]
  },
  {
   "cell_type": "markdown",
   "metadata": {},
   "source": [
    "## <span style=\"color:blue\"> Bubble sort </span>\n",
    "<img src='bbsort.png'>\n",
    "<img src='bbsort1.png'>"
   ]
  },
  {
   "cell_type": "code",
   "execution_count": 13,
   "metadata": {},
   "outputs": [],
   "source": [
    "#algorithms\n",
    "def bubble_sort(A):\n",
    "    n=len(A)\n",
    "    for i in range(n-1,0,-1):\n",
    "        for j in range(i):\n",
    "            if A[j]>A[j+1]:\n",
    "                temp=A[j]\n",
    "                A[j]=A[j+1]\n",
    "                A[j+1]=temp\n",
    "    return A        "
   ]
  },
  {
   "cell_type": "code",
   "execution_count": 14,
   "metadata": {},
   "outputs": [
    {
     "name": "stdout",
     "output_type": "stream",
     "text": [
      "[3, 5, 1, 9, 5, 2]\n",
      "[1, 2, 3, 5, 5, 9]\n"
     ]
    }
   ],
   "source": [
    "l=[3,5,1,9,5,2]\n",
    "print(l)\n",
    "print(bubble_sort(l))"
   ]
  },
  {
   "cell_type": "code",
   "execution_count": 15,
   "metadata": {},
   "outputs": [
    {
     "name": "stdout",
     "output_type": "stream",
     "text": [
      "5\n",
      "4\n",
      "3\n",
      "2\n",
      "1\n"
     ]
    }
   ],
   "source": [
    "for i in range(5,0,-1):\n",
    "    print(i)"
   ]
  },
  {
   "cell_type": "markdown",
   "metadata": {},
   "source": [
    "## <span style=\"color:blue\"> Merge sort </span>\n",
    "<img src='bbsort.png'>\n",
    "<img src='bbsort1.png'>"
   ]
  },
  {
   "cell_type": "code",
   "execution_count": 37,
   "metadata": {},
   "outputs": [
    {
     "name": "stdout",
     "output_type": "stream",
     "text": [
      "[3, 5, 8, 9, 6, 2]\n"
     ]
    },
    {
     "ename": "NameError",
     "evalue": "name 'ceil' is not defined",
     "output_type": "error",
     "traceback": [
      "\u001b[1;31m---------------------------------------------------------------------------\u001b[0m",
      "\u001b[1;31mNameError\u001b[0m                                 Traceback (most recent call last)",
      "\u001b[1;32m<ipython-input-37-8fc69211c16c>\u001b[0m in \u001b[0;36m<module>\u001b[1;34m\u001b[0m\n\u001b[0;32m      1\u001b[0m \u001b[0ml\u001b[0m\u001b[1;33m=\u001b[0m\u001b[1;33m[\u001b[0m\u001b[1;36m3\u001b[0m\u001b[1;33m,\u001b[0m\u001b[1;36m5\u001b[0m\u001b[1;33m,\u001b[0m\u001b[1;36m8\u001b[0m\u001b[1;33m,\u001b[0m\u001b[1;36m9\u001b[0m\u001b[1;33m,\u001b[0m\u001b[1;36m6\u001b[0m\u001b[1;33m,\u001b[0m\u001b[1;36m2\u001b[0m\u001b[1;33m]\u001b[0m\u001b[1;33m\u001b[0m\u001b[1;33m\u001b[0m\u001b[0m\n\u001b[0;32m      2\u001b[0m \u001b[0mprint\u001b[0m\u001b[1;33m(\u001b[0m\u001b[0ml\u001b[0m\u001b[1;33m)\u001b[0m\u001b[1;33m\u001b[0m\u001b[1;33m\u001b[0m\u001b[0m\n\u001b[1;32m----> 3\u001b[1;33m \u001b[0mprint\u001b[0m\u001b[1;33m(\u001b[0m\u001b[0mmerge_sort\u001b[0m\u001b[1;33m(\u001b[0m\u001b[0ml\u001b[0m\u001b[1;33m,\u001b[0m\u001b[1;36m0\u001b[0m\u001b[1;33m,\u001b[0m\u001b[0mlen\u001b[0m\u001b[1;33m(\u001b[0m\u001b[0ml\u001b[0m\u001b[1;33m)\u001b[0m\u001b[1;33m-\u001b[0m\u001b[1;36m1\u001b[0m\u001b[1;33m)\u001b[0m\u001b[1;33m)\u001b[0m\u001b[1;33m\u001b[0m\u001b[1;33m\u001b[0m\u001b[0m\n\u001b[0m",
      "\u001b[1;32m<ipython-input-36-c3267297cead>\u001b[0m in \u001b[0;36mmerge_sort\u001b[1;34m(A, l, r)\u001b[0m\n\u001b[0;32m      1\u001b[0m \u001b[1;32mdef\u001b[0m \u001b[0mmerge_sort\u001b[0m\u001b[1;33m(\u001b[0m\u001b[0mA\u001b[0m\u001b[1;33m,\u001b[0m\u001b[0ml\u001b[0m\u001b[1;33m,\u001b[0m\u001b[0mr\u001b[0m\u001b[1;33m)\u001b[0m\u001b[1;33m:\u001b[0m\u001b[1;33m\u001b[0m\u001b[1;33m\u001b[0m\u001b[0m\n\u001b[0;32m      2\u001b[0m     \u001b[1;32mif\u001b[0m \u001b[0ml\u001b[0m\u001b[1;33m<\u001b[0m\u001b[0mr\u001b[0m\u001b[1;33m:\u001b[0m\u001b[1;33m\u001b[0m\u001b[1;33m\u001b[0m\u001b[0m\n\u001b[1;32m----> 3\u001b[1;33m         \u001b[0mmid\u001b[0m\u001b[1;33m=\u001b[0m\u001b[0mceil\u001b[0m\u001b[1;33m(\u001b[0m\u001b[1;33m(\u001b[0m\u001b[0ml\u001b[0m\u001b[1;33m+\u001b[0m\u001b[0mr\u001b[0m\u001b[1;33m)\u001b[0m\u001b[1;33m/\u001b[0m\u001b[1;36m2\u001b[0m\u001b[1;33m)\u001b[0m\u001b[1;33m\u001b[0m\u001b[1;33m\u001b[0m\u001b[0m\n\u001b[0m\u001b[0;32m      4\u001b[0m         \u001b[0mprint\u001b[0m\u001b[1;33m(\u001b[0m\u001b[0mmid\u001b[0m\u001b[1;33m)\u001b[0m\u001b[1;33m\u001b[0m\u001b[1;33m\u001b[0m\u001b[0m\n",
      "\u001b[1;31mNameError\u001b[0m: name 'ceil' is not defined"
     ]
    }
   ],
   "source": [
    "l=[3,5,8,9,6,2]\n",
    "print(l)\n",
    "print(merge_sort(l,0,len(l)-1))"
   ]
  },
  {
   "cell_type": "code",
   "execution_count": 8,
   "metadata": {},
   "outputs": [],
   "source": [
    "# merge two list\n",
    "def merge(A,B):\n",
    "    m=len(A)\n",
    "    n=len(B)\n",
    "    c=[]\n",
    "    i=j=k=0\n",
    "    while i<m and j<n:\n",
    "        if A[i]<B[j]:\n",
    "            c.append(A[i])\n",
    "            i=i+1\n",
    "        else:\n",
    "            c.append(B[j])\n",
    "            j=j+1\n",
    "    \n",
    "    while i<m:\n",
    "        c.append(A[i])\n",
    "        i=i+1\n",
    "    while j<n:\n",
    "        c.append(B[j])\n",
    "        j=j+1\n",
    "    return c"
   ]
  },
  {
   "cell_type": "code",
   "execution_count": 9,
   "metadata": {},
   "outputs": [
    {
     "name": "stdout",
     "output_type": "stream",
     "text": [
      "[2, 4, 8, 10, 10, 18, 20, 23]\n"
     ]
    }
   ],
   "source": [
    "A=[2,10,18,20,23]\n",
    "B=[4,8,10]\n",
    "print(merge(A,B))"
   ]
  },
  {
   "cell_type": "code",
   "execution_count": 104,
   "metadata": {},
   "outputs": [],
   "source": [
    "#merge single list\n",
    "def merge_singelist(A,l,mid,r):\n",
    "    n=len(A)\n",
    "    B=[]\n",
    "    i=0\n",
    "    j=mid+1\n",
    "    while i<=mid and j<n:\n",
    "        if A[i]<A[j]:\n",
    "            B.append(A[i])\n",
    "            i=i+1\n",
    "        else:\n",
    "            B.append(A[j])\n",
    "            j=j+1\n",
    "    while i<=mid:\n",
    "        B.append(A[i])\n",
    "        i=i+1\n",
    "    while j<n:\n",
    "        B.append(A[j])\n",
    "        j=j+1\n",
    "    A=B "
   ]
  },
  {
   "cell_type": "code",
   "execution_count": 105,
   "metadata": {},
   "outputs": [
    {
     "name": "stdout",
     "output_type": "stream",
     "text": [
      "None\n",
      "[2, 5, 8, 12, 3, 6, 7, 10]\n"
     ]
    }
   ],
   "source": [
    "A=[2,5,8,12,3,6,7,10]\n",
    "print(merge_singelist(A,0,4,len(A)-1))\n",
    "print(A)"
   ]
  },
  {
   "cell_type": "markdown",
   "metadata": {},
   "source": [
    "<img src='4way.png'>\n",
    "<img src='2way.png'>"
   ]
  },
  {
   "cell_type": "code",
   "execution_count": 110,
   "metadata": {},
   "outputs": [
    {
     "name": "stdout",
     "output_type": "stream",
     "text": [
      "[2, 3, 4, 5, 6, 7, 8, 9]\n"
     ]
    }
   ],
   "source": [
    "#merge single list\n",
    "def merge(A, left, mid, right):\n",
    "    i = left\n",
    "    j = mid+1\n",
    "    k = left\n",
    "    B = [0] * (right+1)\n",
    "    while i <= mid and j <= right:\n",
    "        if A[i] < A[j]:\n",
    "            B[k] = A[i]\n",
    "            i = i + 1\n",
    "        else:\n",
    "            B[k] = A[j]\n",
    "            j = j + 1\n",
    "        k = k + 1\n",
    "\n",
    "    while i <= mid:\n",
    "        B[k] = A[i]\n",
    "        i = i + 1\n",
    "        k = k + 1\n",
    "\n",
    "    while j <= right:\n",
    "        B[k] = A[j]\n",
    "        j = j + 1\n",
    "        k = k + 1\n",
    "    for x in range(left,right+1):\n",
    "        A[x] = B[x]\n",
    "    \n",
    "def merge_sort(A,l,r):\n",
    "    n=len(A)\n",
    "    if l<r:\n",
    "        mid=(l+r)//2\n",
    "        merge_sort(A,l,mid)\n",
    "        merge_sort(A,mid+1,r)\n",
    "        merge(A,l,mid,r)\n",
    "\n",
    "A=[8, 3, 7, 4, 9, 2, 6, 5]\n",
    "merge_sort(A,0,len(A)-1)\n",
    "print(A)"
   ]
  },
  {
   "cell_type": "markdown",
   "metadata": {},
   "source": [
    "## <span style=\"color:blue\"> Quick sort </span>\n",
    "<img src='bbsort.png'>\n",
    "<img src='bbsort1.png'>"
   ]
  },
  {
   "cell_type": "code",
   "execution_count": 7,
   "metadata": {},
   "outputs": [],
   "source": [
    "def pivoting(A,l,r):\n",
    "    pivot=A[l]\n",
    "    i=l\n",
    "    j=r\n",
    "    while i<j:\n",
    "        while A[i]<=pivot:\n",
    "            i=i+1\n",
    "        while A[j]>pivot:\n",
    "            j=j-1\n",
    "        if i<j:\n",
    "            temp=A[i]\n",
    "            A[i]=A[j]\n",
    "            A[j]=temp\n",
    "    temp=A[l]\n",
    "    A[l]=A[j]\n",
    "    A[j]=temp\n",
    "    \n",
    "    return j"
   ]
  },
  {
   "cell_type": "code",
   "execution_count": 8,
   "metadata": {},
   "outputs": [
    {
     "name": "stdout",
     "output_type": "stream",
     "text": [
      "3\n",
      "[1, 0, 2, 3, 5, 8, 5]\n"
     ]
    }
   ],
   "source": [
    "l=[3,5,2,1,0,8,5]\n",
    "print(partition(l,0,len(l)-1))\n",
    "print(l)"
   ]
  },
  {
   "cell_type": "code",
   "execution_count": 9,
   "metadata": {},
   "outputs": [],
   "source": [
    "def quicksort(A,l,r):\n",
    "    if l<r:\n",
    "        p=pivoting(A,l,r)\n",
    "        quicksort(A,l,p-1)\n",
    "        quicksort(A,p+1,r)\n",
    "        "
   ]
  },
  {
   "cell_type": "code",
   "execution_count": 10,
   "metadata": {},
   "outputs": [
    {
     "name": "stdout",
     "output_type": "stream",
     "text": [
      "None\n",
      "[1, 2, 3, 4, 5, 6, 7, 8, 9]\n"
     ]
    }
   ],
   "source": [
    "l=[3,5,8,1,2,9,4,7,6]\n",
    "print(quicksort(l,0,len(l)-1))\n",
    "print(l)"
   ]
  },
  {
   "cell_type": "code",
   "execution_count": null,
   "metadata": {},
   "outputs": [],
   "source": []
  },
  {
   "cell_type": "markdown",
   "metadata": {},
   "source": [
    "## <span style=\"color:blue\"> Count sort </span>"
   ]
  },
  {
   "cell_type": "code",
   "execution_count": 5,
   "metadata": {},
   "outputs": [],
   "source": [
    "def count_sort(A):\n",
    "    n=len(A)\n",
    "    maxi=max(A)\n",
    "    B=[0]*(maxi+1)\n",
    "    for i in range(n):\n",
    "        B[A[i]]=B[A[i]]+1\n",
    "    j=0\n",
    "    i=0\n",
    "    while i<maxi+1:\n",
    "        if B[i]>0:\n",
    "            A[j]=i\n",
    "            j=j+1\n",
    "            B[i]=B[i]-1\n",
    "        else:\n",
    "            i=i+1\n",
    "    return A\n"
   ]
  },
  {
   "cell_type": "code",
   "execution_count": 6,
   "metadata": {},
   "outputs": [
    {
     "name": "stdout",
     "output_type": "stream",
     "text": [
      "[1, 2, 3, 4, 5, 6, 7, 8, 9]\n",
      "[1, 2, 3, 4, 5, 6, 7, 8, 9]\n"
     ]
    }
   ],
   "source": [
    "l=[3,5,8,1,2,9,4,7,6]\n",
    "print(count_sort(l))\n",
    "print(l)"
   ]
  },
  {
   "cell_type": "code",
   "execution_count": null,
   "metadata": {},
   "outputs": [],
   "source": []
  }
 ],
 "metadata": {
  "kernelspec": {
   "display_name": "Python 3",
   "language": "python",
   "name": "python3"
  },
  "language_info": {
   "codemirror_mode": {
    "name": "ipython",
    "version": 3
   },
   "file_extension": ".py",
   "mimetype": "text/x-python",
   "name": "python",
   "nbconvert_exporter": "python",
   "pygments_lexer": "ipython3",
   "version": "3.7.3"
  }
 },
 "nbformat": 4,
 "nbformat_minor": 4
}
